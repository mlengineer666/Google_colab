{
  "nbformat": 4,
  "nbformat_minor": 0,
  "metadata": {
    "colab": {
      "provenance": [],
      "authorship_tag": "ABX9TyNRi2+Ll0Er5EcG4J6vQvmI",
      "include_colab_link": true
    },
    "kernelspec": {
      "name": "python3",
      "display_name": "Python 3"
    },
    "language_info": {
      "name": "python"
    }
  },
  "cells": [
    {
      "cell_type": "markdown",
      "metadata": {
        "id": "view-in-github",
        "colab_type": "text"
      },
      "source": [
        "<a href=\"https://colab.research.google.com/github/mlengineer666/Google_colab/blob/main/python_oops_class.ipynb\" target=\"_parent\"><img src=\"https://colab.research.google.com/assets/colab-badge.svg\" alt=\"Open In Colab\"/></a>"
      ]
    },
    {
      "cell_type": "code",
      "source": [
        "class Atm:\n",
        "  # create a constructor\n",
        "  def __init__(self):\n",
        "    self.pin = ''\n",
        "    self.balance = 0\n",
        "    print('mai to execute ho gya vai')\n",
        "    self.menu()\n",
        "\n",
        "    # create a menu which is actually exist in atm machine\n",
        "    # for access this function we need to call this function inside our constructor\n",
        "  def menu(self):\n",
        "    user_input = input(\"\"\"\n",
        "        Hey my friend how can i help you\n",
        "        1. Press 1 to create pin\n",
        "        2. Press 2 to change pin\n",
        "        3. Press 3 to check balance\n",
        "        4. Press 4 to withdraw\n",
        "        5. Anything else to exit\n",
        "        \"\"\")\n",
        "\n",
        "    if user_input == '1':\n",
        "          self.create_pin()\n",
        "          # pass\n",
        "    elif user_input == '2':\n",
        "          # change pin\n",
        "          self.change_pin()\n",
        "          # pass\n",
        "    elif user_input == '3':\n",
        "          # check balance\n",
        "          self.check_balance()\n",
        "          # pass\n",
        "    elif user_input == '4':\n",
        "          # withdraw\n",
        "          self.withdrawl()\n",
        "    else:\n",
        "      exit()\n",
        "\n",
        "# for create pin\n",
        "  def create_pin(self):\n",
        "      user_pin = input(' Enter your pin ')\n",
        "      # put the user pin in constructor's pin\n",
        "      self.pin = user_pin\n",
        "\n",
        "      user_balance = int(input(\" Enter your balance \"))\n",
        "      self.balance = user_balance\n",
        "\n",
        "      print(\" create pin successfully \")\n",
        "      self.menu()\n",
        "\n",
        "\n",
        "      # create our change pin function\n",
        "  def change_pin(self):\n",
        "    old_pin = input('Enter your old pin ')\n",
        "    # you can change this pin\n",
        "    if old_pin == self.pin:\n",
        "      new_pin = input('Enter new pin ')\n",
        "      self.pin = new_pin\n",
        "      print(\" Pin change successfull \")\n",
        "      self.menu()\n",
        "    else:\n",
        "      print(\" Nhi kar sakte re baba \")\n",
        "\n",
        "      # create a check balance function\n",
        "\n",
        "  def check_balance(self):\n",
        "      user_pin = input(\"Enter the correct pin for check balance \")\n",
        "      if user_pin == self.pin:\n",
        "        print(f\"your balance is {self.balance} \")\n",
        "      else:\n",
        "        print('chal nikal yahanse')\n",
        "\n",
        "\n",
        "      # make withdrawl function\n",
        "  def withdrawl(self):\n",
        "    user_pin = input('Enter your pin ')\n",
        "    if user_pin == self.pin:\n",
        "      amount = int(input(\"Enter the amount \"))\n",
        "      # check that user has sufiicient balance or not\n",
        "      if int(amount) <= int(self.balance):\n",
        "        self.balance = self.balance - amount\n",
        "        print(f\"your withdrawl amount is {amount} \")\n",
        "        print(f\"your current bank balance is {self.balance} \")\n",
        "      else:\n",
        "        print(\"abe garib\")\n",
        "    else:\n",
        "      print('nikal ATM se')\n",
        "      self.menu()\n",
        "\n"
      ],
      "metadata": {
        "id": "dA4ngcRyDSty"
      },
      "execution_count": null,
      "outputs": []
    },
    {
      "cell_type": "code",
      "source": [
        "obj = Atm()\n",
        "print(obj)\n"
      ],
      "metadata": {
        "colab": {
          "base_uri": "https://localhost:8080/"
        },
        "id": "F2iA1jm8Do5U",
        "outputId": "92205852-67b9-4238-feb3-95af61649c6a"
      },
      "execution_count": null,
      "outputs": [
        {
          "output_type": "stream",
          "name": "stdout",
          "text": [
            "mai to execute ho gya vai\n",
            "\n",
            "        Hey my friend how can i help you\n",
            "        1. Press 1 to create pin\n",
            "        2. Press 2 to change pin\n",
            "        3. Press 3 to check balance\n",
            "        4. Press 4 to withdraw\n",
            "        5. Anything else to exit\n",
            "        1\n",
            " Enter your pin 1992\n",
            " Enter your balance 29990\n",
            " create pin successfully \n",
            "\n",
            "        Hey my friend how can i help you\n",
            "        1. Press 1 to create pin\n",
            "        2. Press 2 to change pin\n",
            "        3. Press 3 to check balance\n",
            "        4. Press 4 to withdraw\n",
            "        5. Anything else to exit\n",
            "        3\n",
            "Enter the correct pin for check balance 1992\n",
            "your balance is 29990 \n",
            "<__main__.Atm object at 0x784dba83dd50>\n"
          ]
        }
      ]
    },
    {
      "cell_type": "code",
      "source": [
        "class person:\n",
        "  def __init__(self):\n",
        "    self.__name = 'naital' # this is private now"
      ],
      "metadata": {
        "id": "JsOXxfUVmIqI"
      },
      "execution_count": null,
      "outputs": []
    },
    {
      "cell_type": "code",
      "source": [
        "obj = person()\n",
        "obj.__name = 'ankit' # the double underscore is define that this variable is private    ### it cann't be change the constructor varible value ###\n",
        "print(id(obj.__name))\n",
        "# instead it create another variable name in memory\n",
        "# self.__name change in memory -> _person__name [inside memory]\n",
        "#obj.__name change in memory -> __name [inside memory]\n",
        "# so we can see this these are not same but if we do this _person__name = 'farhan' then it will actually change into our memeory\n",
        "obj._person__name = 'farhan'\n",
        "print(id(obj._person__name))"
      ],
      "metadata": {
        "colab": {
          "base_uri": "https://localhost:8080/"
        },
        "id": "WoVxFEDKmRu0",
        "outputId": "52d44839-c98e-4521-ae2c-51fa6ac3f35f"
      },
      "execution_count": null,
      "outputs": [
        {
          "output_type": "stream",
          "name": "stdout",
          "text": [
            "132275230811632\n",
            "132275230817776\n"
          ]
        }
      ]
    }
  ]
}