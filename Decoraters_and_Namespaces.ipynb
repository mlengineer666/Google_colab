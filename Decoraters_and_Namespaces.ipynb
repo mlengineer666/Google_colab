{
  "nbformat": 4,
  "nbformat_minor": 0,
  "metadata": {
    "colab": {
      "provenance": [],
      "authorship_tag": "ABX9TyNhV+jJf14F4iQl7DCCPaW7",
      "include_colab_link": true
    },
    "kernelspec": {
      "name": "python3",
      "display_name": "Python 3"
    },
    "language_info": {
      "name": "python"
    }
  },
  "cells": [
    {
      "cell_type": "markdown",
      "metadata": {
        "id": "view-in-github",
        "colab_type": "text"
      },
      "source": [
        "<a href=\"https://colab.research.google.com/github/mlengineer666/Google_colab/blob/main/Decoraters_and_Namespaces.ipynb\" target=\"_parent\"><img src=\"https://colab.research.google.com/assets/colab-badge.svg\" alt=\"Open In Colab\"/></a>"
      ]
    },
    {
      "cell_type": "markdown",
      "source": [
        "# **Namespaces**"
      ],
      "metadata": {
        "id": "ibzO4E_TqgRI"
      }
    },
    {
      "cell_type": "code",
      "execution_count": null,
      "metadata": {
        "colab": {
          "base_uri": "https://localhost:8080/"
        },
        "id": "8jZulaOhoqeb",
        "outputId": "72afb46d-7c68-4370-e0e4-a540f13c7e9b"
      },
      "outputs": [
        {
          "output_type": "stream",
          "name": "stdout",
          "text": [
            "3\n",
            "2\n"
          ]
        }
      ],
      "source": [
        "# Local and Global\n",
        "a =2  # Global variable\n",
        "def temp():\n",
        "  d=3\n",
        "  print(d)  # Local variable\n",
        "\n",
        "temp()\n",
        "print(a)\n"
      ]
    },
    {
      "cell_type": "code",
      "execution_count": null,
      "metadata": {
        "colab": {
          "base_uri": "https://localhost:8080/"
        },
        "outputId": "e372c741-65cf-452d-b0b2-175567eba733",
        "id": "3WSZlBwpvbbP"
      },
      "outputs": [
        {
          "output_type": "stream",
          "name": "stdout",
          "text": [
            "4\n",
            "2\n"
          ]
        }
      ],
      "source": [
        "# Local and Global\n",
        "a =2  # Global variable\n",
        "def temp():\n",
        "  a=3\n",
        "  print(a)  # Local variable\n",
        "\n",
        "temp()\n",
        "print(a)\n"
      ]
    },
    {
      "cell_type": "code",
      "source": [
        "# Local and Global\n",
        "a =2  # Global variable\n",
        "def temp():\n",
        "\n",
        "  print(a)  # Local variable\n",
        "\n",
        "temp()\n",
        "print(a)\n"
      ],
      "metadata": {
        "colab": {
          "base_uri": "https://localhost:8080/"
        },
        "id": "CVKbVOU1wX0B",
        "outputId": "809fb0af-9c27-4654-fd56-1967d088e9c4"
      },
      "execution_count": null,
      "outputs": [
        {
          "output_type": "stream",
          "name": "stdout",
          "text": [
            "2\n",
            "2\n"
          ]
        }
      ]
    },
    {
      "cell_type": "code",
      "source": [
        "# Local and Global\n",
        "a =2  # Global variable\n",
        "def temp():\n",
        "  a+=1  # we cannot change this global variable we can only access this\n",
        "  print(a)  # Local variable\n",
        "\n",
        "temp()\n",
        "print(a)"
      ],
      "metadata": {
        "colab": {
          "base_uri": "https://localhost:8080/",
          "height": 315
        },
        "id": "l0OZ4b1czJ4t",
        "outputId": "4b5386ca-2053-4b1c-cc72-895a9553310a"
      },
      "execution_count": null,
      "outputs": [
        {
          "output_type": "error",
          "ename": "UnboundLocalError",
          "evalue": "local variable 'a' referenced before assignment",
          "traceback": [
            "\u001b[0;31m---------------------------------------------------------------------------\u001b[0m",
            "\u001b[0;31mUnboundLocalError\u001b[0m                         Traceback (most recent call last)",
            "\u001b[0;32m<ipython-input-13-dfbf891b1f31>\u001b[0m in \u001b[0;36m<cell line: 7>\u001b[0;34m()\u001b[0m\n\u001b[1;32m      5\u001b[0m   \u001b[0mprint\u001b[0m\u001b[0;34m(\u001b[0m\u001b[0ma\u001b[0m\u001b[0;34m)\u001b[0m  \u001b[0;31m# Local variable\u001b[0m\u001b[0;34m\u001b[0m\u001b[0;34m\u001b[0m\u001b[0m\n\u001b[1;32m      6\u001b[0m \u001b[0;34m\u001b[0m\u001b[0m\n\u001b[0;32m----> 7\u001b[0;31m \u001b[0mtemp\u001b[0m\u001b[0;34m(\u001b[0m\u001b[0;34m)\u001b[0m\u001b[0;34m\u001b[0m\u001b[0;34m\u001b[0m\u001b[0m\n\u001b[0m\u001b[1;32m      8\u001b[0m \u001b[0mprint\u001b[0m\u001b[0;34m(\u001b[0m\u001b[0ma\u001b[0m\u001b[0;34m)\u001b[0m\u001b[0;34m\u001b[0m\u001b[0;34m\u001b[0m\u001b[0m\n",
            "\u001b[0;32m<ipython-input-13-dfbf891b1f31>\u001b[0m in \u001b[0;36mtemp\u001b[0;34m()\u001b[0m\n\u001b[1;32m      2\u001b[0m \u001b[0ma\u001b[0m \u001b[0;34m=\u001b[0m\u001b[0;36m2\u001b[0m  \u001b[0;31m# Global variable\u001b[0m\u001b[0;34m\u001b[0m\u001b[0;34m\u001b[0m\u001b[0m\n\u001b[1;32m      3\u001b[0m \u001b[0;32mdef\u001b[0m \u001b[0mtemp\u001b[0m\u001b[0;34m(\u001b[0m\u001b[0;34m)\u001b[0m\u001b[0;34m:\u001b[0m\u001b[0;34m\u001b[0m\u001b[0;34m\u001b[0m\u001b[0m\n\u001b[0;32m----> 4\u001b[0;31m   \u001b[0ma\u001b[0m\u001b[0;34m+=\u001b[0m\u001b[0;36m1\u001b[0m\u001b[0;34m\u001b[0m\u001b[0;34m\u001b[0m\u001b[0m\n\u001b[0m\u001b[1;32m      5\u001b[0m   \u001b[0mprint\u001b[0m\u001b[0;34m(\u001b[0m\u001b[0ma\u001b[0m\u001b[0;34m)\u001b[0m  \u001b[0;31m# Local variable\u001b[0m\u001b[0;34m\u001b[0m\u001b[0;34m\u001b[0m\u001b[0m\n\u001b[1;32m      6\u001b[0m \u001b[0;34m\u001b[0m\u001b[0m\n",
            "\u001b[0;31mUnboundLocalError\u001b[0m: local variable 'a' referenced before assignment"
          ]
        }
      ]
    },
    {
      "cell_type": "code",
      "source": [
        "# Local and Global\n",
        "a =2  # Global variable\n",
        "def temp():\n",
        "  global a\n",
        "  a+=1  # we can change this global variable using this global keyword\n",
        "  print(a)  # Local variable\n",
        "\n",
        "temp()\n",
        "print(a)"
      ],
      "metadata": {
        "colab": {
          "base_uri": "https://localhost:8080/"
        },
        "id": "LRaegaBTz8rK",
        "outputId": "5a4a0802-4d3c-4455-c185-acb13bed1e99"
      },
      "execution_count": null,
      "outputs": [
        {
          "output_type": "stream",
          "name": "stdout",
          "text": [
            "2\n",
            "2\n"
          ]
        }
      ]
    },
    {
      "cell_type": "code",
      "source": [
        "def temp(z):  # z is local variable, if we access outside of our function it cann't be accessable\n",
        "  # global a\n",
        "  # a+=1  # we can change this global variable using this global keyword\n",
        "  print(z)  # Local variable\n",
        "\n",
        "a=5\n",
        "temp(5)\n",
        "print(a)\n"
      ],
      "metadata": {
        "colab": {
          "base_uri": "https://localhost:8080/"
        },
        "id": "VjuA_UK-06mU",
        "outputId": "b79cfa81-9b53-4aaf-dceb-c08bf0e83af2"
      },
      "execution_count": null,
      "outputs": [
        {
          "output_type": "stream",
          "name": "stdout",
          "text": [
            "5\n",
            "5\n"
          ]
        }
      ]
    },
    {
      "cell_type": "code",
      "source": [
        "# Built-In scope\n",
        "'''print(),type(),input(),sum(),max(),.....length() -> is an example of built-in scope'''\n",
        "import builtins\n",
        "dir(builtins)"
      ],
      "metadata": {
        "colab": {
          "base_uri": "https://localhost:8080/"
        },
        "id": "XJqpXGPq2cwC",
        "outputId": "ac66a3b8-01c8-4949-fde5-28ea62597d6d"
      },
      "execution_count": null,
      "outputs": [
        {
          "output_type": "execute_result",
          "data": {
            "text/plain": [
              "['ArithmeticError',\n",
              " 'AssertionError',\n",
              " 'AttributeError',\n",
              " 'BaseException',\n",
              " 'BlockingIOError',\n",
              " 'BrokenPipeError',\n",
              " 'BufferError',\n",
              " 'BytesWarning',\n",
              " 'ChildProcessError',\n",
              " 'ConnectionAbortedError',\n",
              " 'ConnectionError',\n",
              " 'ConnectionRefusedError',\n",
              " 'ConnectionResetError',\n",
              " 'DeprecationWarning',\n",
              " 'EOFError',\n",
              " 'Ellipsis',\n",
              " 'EncodingWarning',\n",
              " 'EnvironmentError',\n",
              " 'Exception',\n",
              " 'False',\n",
              " 'FileExistsError',\n",
              " 'FileNotFoundError',\n",
              " 'FloatingPointError',\n",
              " 'FutureWarning',\n",
              " 'GeneratorExit',\n",
              " 'IOError',\n",
              " 'ImportError',\n",
              " 'ImportWarning',\n",
              " 'IndentationError',\n",
              " 'IndexError',\n",
              " 'InterruptedError',\n",
              " 'IsADirectoryError',\n",
              " 'KeyError',\n",
              " 'KeyboardInterrupt',\n",
              " 'LookupError',\n",
              " 'MemoryError',\n",
              " 'ModuleNotFoundError',\n",
              " 'NameError',\n",
              " 'None',\n",
              " 'NotADirectoryError',\n",
              " 'NotImplemented',\n",
              " 'NotImplementedError',\n",
              " 'OSError',\n",
              " 'OverflowError',\n",
              " 'PendingDeprecationWarning',\n",
              " 'PermissionError',\n",
              " 'ProcessLookupError',\n",
              " 'RecursionError',\n",
              " 'ReferenceError',\n",
              " 'ResourceWarning',\n",
              " 'RuntimeError',\n",
              " 'RuntimeWarning',\n",
              " 'StopAsyncIteration',\n",
              " 'StopIteration',\n",
              " 'SyntaxError',\n",
              " 'SyntaxWarning',\n",
              " 'SystemError',\n",
              " 'SystemExit',\n",
              " 'TabError',\n",
              " 'TimeoutError',\n",
              " 'True',\n",
              " 'TypeError',\n",
              " 'UnboundLocalError',\n",
              " 'UnicodeDecodeError',\n",
              " 'UnicodeEncodeError',\n",
              " 'UnicodeError',\n",
              " 'UnicodeTranslateError',\n",
              " 'UnicodeWarning',\n",
              " 'UserWarning',\n",
              " 'ValueError',\n",
              " 'Warning',\n",
              " 'ZeroDivisionError',\n",
              " '__IPYTHON__',\n",
              " '__build_class__',\n",
              " '__debug__',\n",
              " '__doc__',\n",
              " '__import__',\n",
              " '__loader__',\n",
              " '__name__',\n",
              " '__package__',\n",
              " '__spec__',\n",
              " 'abs',\n",
              " 'aiter',\n",
              " 'all',\n",
              " 'anext',\n",
              " 'any',\n",
              " 'ascii',\n",
              " 'bin',\n",
              " 'bool',\n",
              " 'breakpoint',\n",
              " 'bytearray',\n",
              " 'bytes',\n",
              " 'callable',\n",
              " 'chr',\n",
              " 'classmethod',\n",
              " 'compile',\n",
              " 'complex',\n",
              " 'copyright',\n",
              " 'credits',\n",
              " 'delattr',\n",
              " 'dict',\n",
              " 'dir',\n",
              " 'display',\n",
              " 'divmod',\n",
              " 'enumerate',\n",
              " 'eval',\n",
              " 'exec',\n",
              " 'execfile',\n",
              " 'filter',\n",
              " 'float',\n",
              " 'format',\n",
              " 'frozenset',\n",
              " 'get_ipython',\n",
              " 'getattr',\n",
              " 'globals',\n",
              " 'hasattr',\n",
              " 'hash',\n",
              " 'help',\n",
              " 'hex',\n",
              " 'id',\n",
              " 'input',\n",
              " 'int',\n",
              " 'isinstance',\n",
              " 'issubclass',\n",
              " 'iter',\n",
              " 'len',\n",
              " 'license',\n",
              " 'list',\n",
              " 'locals',\n",
              " 'map',\n",
              " 'max',\n",
              " 'memoryview',\n",
              " 'min',\n",
              " 'next',\n",
              " 'object',\n",
              " 'oct',\n",
              " 'open',\n",
              " 'ord',\n",
              " 'pow',\n",
              " 'print',\n",
              " 'property',\n",
              " 'range',\n",
              " 'repr',\n",
              " 'reversed',\n",
              " 'round',\n",
              " 'runfile',\n",
              " 'set',\n",
              " 'setattr',\n",
              " 'slice',\n",
              " 'sorted',\n",
              " 'staticmethod',\n",
              " 'str',\n",
              " 'sum',\n",
              " 'super',\n",
              " 'tuple',\n",
              " 'type',\n",
              " 'vars',\n",
              " 'zip']"
            ]
          },
          "metadata": {},
          "execution_count": 25
        }
      ]
    },
    {
      "cell_type": "code",
      "source": [
        "# Renaming built-in\n",
        "l = [1,3,4]\n",
        "max(l)  # it will not through an error but because of colab it doesn't show\n",
        "def max():\n",
        "  print('hello')\n",
        "\n",
        "max(l)  # it will through an typerror because max is now global not built-in"
      ],
      "metadata": {
        "colab": {
          "base_uri": "https://localhost:8080/",
          "height": 193
        },
        "id": "o14167Fu3s-3",
        "outputId": "2d42a774-5ed7-4ddf-db55-12671e393fab"
      },
      "execution_count": null,
      "outputs": [
        {
          "output_type": "error",
          "ename": "TypeError",
          "evalue": "max() takes 0 positional arguments but 1 was given",
          "traceback": [
            "\u001b[0;31m---------------------------------------------------------------------------\u001b[0m",
            "\u001b[0;31mTypeError\u001b[0m                                 Traceback (most recent call last)",
            "\u001b[0;32m<ipython-input-33-e39a747e7c5f>\u001b[0m in \u001b[0;36m<cell line: 7>\u001b[0;34m()\u001b[0m\n\u001b[1;32m      5\u001b[0m   \u001b[0mprint\u001b[0m\u001b[0;34m(\u001b[0m\u001b[0;34m'hello'\u001b[0m\u001b[0;34m)\u001b[0m\u001b[0;34m\u001b[0m\u001b[0;34m\u001b[0m\u001b[0m\n\u001b[1;32m      6\u001b[0m \u001b[0;34m\u001b[0m\u001b[0m\n\u001b[0;32m----> 7\u001b[0;31m \u001b[0mmax\u001b[0m\u001b[0;34m(\u001b[0m\u001b[0ml\u001b[0m\u001b[0;34m)\u001b[0m  \u001b[0;31m# it will through an typerror because max is now global not built-in\u001b[0m\u001b[0;34m\u001b[0m\u001b[0;34m\u001b[0m\u001b[0m\n\u001b[0m",
            "\u001b[0;31mTypeError\u001b[0m: max() takes 0 positional arguments but 1 was given"
          ]
        }
      ]
    },
    {
      "cell_type": "code",
      "source": [
        "# Enclosing scope(Inside nested function)\n",
        "\n",
        "def outer():  # this is call enclosing\n",
        "  a=1\n",
        "  def inner():  # this is local\n",
        "    a=4\n",
        "    print(a)\n",
        "  inner()             # '''this is follow LEGB rule''' # Local-> Enclosing-> Global-> Built-In\n",
        "  print('outer')\n",
        "\n",
        "# a=10\n",
        "outer()\n",
        "print('main program')\n",
        "# inner then outer then main program"
      ],
      "metadata": {
        "colab": {
          "base_uri": "https://localhost:8080/"
        },
        "id": "x4vtgaCYSmcD",
        "outputId": "1e04a122-d70e-4de1-872e-a2d8c7d059ea"
      },
      "execution_count": null,
      "outputs": [
        {
          "output_type": "stream",
          "name": "stdout",
          "text": [
            "1\n",
            "outer\n",
            "main program\n"
          ]
        }
      ]
    },
    {
      "cell_type": "code",
      "source": [
        "# Enclosing scope(Inside nested function)\n",
        "\n",
        "def outer():  # outer function is call enclosing\n",
        "  a=100\n",
        "  def inner():  # this is local\n",
        "    nonlocal a\n",
        "    a+=4\n",
        "    print(a)\n",
        "  inner()             # '''this is follow LEGB rule''' # Local-> Enclosing-> Global-> Built-In\n",
        "  print('outer')\n",
        "\n",
        "# a=10\n",
        "outer()\n",
        "print('main program')\n",
        "# inner then outer then main program"
      ],
      "metadata": {
        "colab": {
          "base_uri": "https://localhost:8080/"
        },
        "outputId": "7e3115fd-fde8-48b3-9d4f-88761787857d",
        "id": "yqwQB03IYjVE"
      },
      "execution_count": null,
      "outputs": [
        {
          "output_type": "stream",
          "name": "stdout",
          "text": [
            "100\n",
            "100\n",
            "main program\n"
          ]
        }
      ]
    },
    {
      "cell_type": "markdown",
      "source": [
        "# **Decorator**"
      ],
      "metadata": {
        "id": "4XYuDyOhe2Hq"
      }
    },
    {
      "cell_type": "code",
      "source": [
        "# def modify(func,num):\n",
        "#   return func(num)\n",
        "\n",
        "# def square(num):\n",
        "#   return num**2\n",
        "\n",
        "# modify(square,2)\n",
        "\n",
        "'''Messy Syntax'''\n",
        "\n",
        "def my_decorator(func):\n",
        "  def wrapper():\n",
        "    print('**********************')\n",
        "    func()\n",
        "    print('**********************')\n",
        "  return wrapper\n",
        "\n",
        "def hello():\n",
        "  print('hello')\n",
        "\n",
        "def display():\n",
        "  print('display')\n",
        "\n",
        "a = my_decorator(hello)\n",
        "a()\n",
        "b = my_decorator(display)\n",
        "b()"
      ],
      "metadata": {
        "colab": {
          "base_uri": "https://localhost:8080/"
        },
        "id": "FxMkHGR5StHA",
        "outputId": "e681dfec-484a-4e83-ad70-e77585ea68a2"
      },
      "execution_count": null,
      "outputs": [
        {
          "output_type": "stream",
          "name": "stdout",
          "text": [
            "**********************\n",
            "display\n",
            "**********************\n"
          ]
        }
      ]
    },
    {
      "cell_type": "code",
      "source": [
        "'''Clean Syntax'''\n",
        "def My_decorator(func):\n",
        "  def wrapper():\n",
        "    print('**********************')\n",
        "    func()\n",
        "    print('**********************')\n",
        "  return wrapper\n",
        "\n",
        "@My_decorator\n",
        "def hello():\n",
        "  print('hello')\n",
        "\n",
        "hello()"
      ],
      "metadata": {
        "colab": {
          "base_uri": "https://localhost:8080/"
        },
        "id": "28VLq0STpze1",
        "outputId": "33cddc53-7736-4486-bc08-2fd8a8fcc2ba"
      },
      "execution_count": null,
      "outputs": [
        {
          "output_type": "stream",
          "name": "stdout",
          "text": [
            "**********************\n",
            "hello\n",
            "**********************\n"
          ]
        }
      ]
    },
    {
      "cell_type": "code",
      "source": [
        "# code of time taken by a function after and before execution\n",
        "\n",
        "import time\n",
        "\n",
        "def time1(func):\n",
        "  def wrapper(*args):\n",
        "    print(time.time())\n",
        "    func(*args)\n",
        "    print(time.time())\n",
        "  return wrapper\n",
        "\n",
        "@time1\n",
        "def square(num):\n",
        "  print(num**2)\n",
        "\n",
        "@time1\n",
        "def power(a,b):\n",
        "  print(a**b)\n",
        "\n",
        "square(20)\n",
        "power(2,4)\n",
        "\n",
        "\n"
      ],
      "metadata": {
        "colab": {
          "base_uri": "https://localhost:8080/"
        },
        "id": "iAhvLUUTrGmY",
        "outputId": "60c64a85-b7dd-46d3-d506-9b28645903fc"
      },
      "execution_count": null,
      "outputs": [
        {
          "output_type": "stream",
          "name": "stdout",
          "text": [
            "1746514204.9848578\n",
            "400\n",
            "1746514204.9849687\n",
            "1746514204.9850378\n",
            "16\n",
            "1746514204.9850476\n"
          ]
        }
      ]
    },
    {
      "cell_type": "code",
      "source": [
        "# code check our input is valid or not\n",
        "def sanity_check(data_type):\n",
        "  def mydecorator(func):\n",
        "    def wrapper(*args):    # instead of num we can use *args in future if list or another data type is is as an input\n",
        "      if type(*args)==data_type:\n",
        "        func(*args)\n",
        "      else:\n",
        "        raise TypeError('Please enter valid datatype')\n",
        "    return wrapper\n",
        "  return mydecorator\n",
        "\n",
        "@sanity_check(int)  # for checking int value\n",
        "def square(num):\n",
        "  print(num**2)\n",
        "\n",
        "square(20)\n",
        "\n",
        "''' Here we also use LEGB rule'''\n"
      ],
      "metadata": {
        "colab": {
          "base_uri": "https://localhost:8080/",
          "height": 53
        },
        "id": "cwArT3N-yX_N",
        "outputId": "845ef9b6-976e-4652-8864-2bf6025e614b"
      },
      "execution_count": null,
      "outputs": [
        {
          "output_type": "stream",
          "name": "stdout",
          "text": [
            "400\n"
          ]
        },
        {
          "output_type": "execute_result",
          "data": {
            "text/plain": [
              "' Here we also use LEGB rule'"
            ],
            "application/vnd.google.colaboratory.intrinsic+json": {
              "type": "string"
            }
          },
          "metadata": {},
          "execution_count": 7
        }
      ]
    },
    {
      "cell_type": "code",
      "source": [],
      "metadata": {
        "id": "o89Fc1fc5gFM"
      },
      "execution_count": null,
      "outputs": []
    }
  ]
}