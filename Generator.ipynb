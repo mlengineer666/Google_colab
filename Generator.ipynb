{
  "nbformat": 4,
  "nbformat_minor": 0,
  "metadata": {
    "colab": {
      "provenance": [],
      "authorship_tag": "ABX9TyNCdqN8W8lkeWK2X4uZssqH",
      "include_colab_link": true
    },
    "kernelspec": {
      "name": "python3",
      "display_name": "Python 3"
    },
    "language_info": {
      "name": "python"
    }
  },
  "cells": [
    {
      "cell_type": "markdown",
      "metadata": {
        "id": "view-in-github",
        "colab_type": "text"
      },
      "source": [
        "<a href=\"https://colab.research.google.com/github/mlengineer666/Google_colab/blob/main/Generator.ipynb\" target=\"_parent\"><img src=\"https://colab.research.google.com/assets/colab-badge.svg\" alt=\"Open In Colab\"/></a>"
      ]
    },
    {
      "cell_type": "code",
      "execution_count": null,
      "metadata": {
        "colab": {
          "base_uri": "https://localhost:8080/"
        },
        "id": "cdVAfcoHqM5V",
        "outputId": "475b2d77-fead-429a-9cf6-572b0f67af61"
      },
      "outputs": [
        {
          "output_type": "stream",
          "name": "stdout",
          "text": [
            "28\n"
          ]
        }
      ],
      "source": [
        "for i in range(1,1000):\n",
        "  # print(i**2)\n",
        "\n",
        "  import sys\n",
        "print(sys.getsizeof(i))"
      ]
    },
    {
      "cell_type": "code",
      "source": [
        "def gen_demo():\n",
        "    yield('first statement')\n",
        "    yield('second statement')\n",
        "    yield('third statement')\n",
        "\n",
        "\n",
        "gen = gen_demo()\n",
        "print(next(gen))\n",
        "print(next(gen))\n",
        "print(next(gen))\n",
        "\n"
      ],
      "metadata": {
        "colab": {
          "base_uri": "https://localhost:8080/"
        },
        "id": "atyJE63fsUOA",
        "outputId": "727bc3dd-f9a1-4afc-f0eb-0c34d1395276"
      },
      "execution_count": null,
      "outputs": [
        {
          "output_type": "stream",
          "name": "stdout",
          "text": [
            "first statement\n",
            "second statement\n",
            "third statement\n"
          ]
        }
      ]
    },
    {
      "cell_type": "code",
      "source": [
        "def square(nums):\n",
        "    for i in nums:\n",
        "      yield i**2\n",
        "\n",
        "a = square([1,2,3,4,5])\n",
        "print(next(a))\n",
        "print(next(a))\n",
        "print(next(a))\n",
        "for i in a:\n",
        "  print(i)\n"
      ],
      "metadata": {
        "colab": {
          "base_uri": "https://localhost:8080/"
        },
        "id": "n5fEUMNtvPRt",
        "outputId": "d266afc1-ad58-4bde-f3f8-559f287556d9"
      },
      "execution_count": null,
      "outputs": [
        {
          "output_type": "stream",
          "name": "stdout",
          "text": [
            "1\n",
            "4\n",
            "9\n",
            "16\n",
            "25\n"
          ]
        }
      ]
    },
    {
      "cell_type": "code",
      "source": [
        "import sys\n",
        "def mera_range(start,end):\n",
        "  for i in range(start,end):\n",
        "    yield i\n",
        "\n",
        "a = mera_range(1,10+1)\n",
        "# print(next(a))\n",
        "# print(next(a))\n",
        "# print(next(a))\n",
        "# for i in a:\n",
        "#   print(i)\n",
        "\n",
        "L = [x for x in range(100000)]\n",
        "print(sys.getsizeof(L))\n",
        "\n",
        "G = (x for x in range(10000000))\n",
        "print(sys.getsizeof(G))\n",
        "\n"
      ],
      "metadata": {
        "colab": {
          "base_uri": "https://localhost:8080/"
        },
        "id": "Ik4J2HiDv-ws",
        "outputId": "55e7ab06-1afd-4be2-edae-67f6d524180e"
      },
      "execution_count": null,
      "outputs": [
        {
          "output_type": "stream",
          "name": "stdout",
          "text": [
            "800984\n",
            "104\n"
          ]
        }
      ]
    },
    {
      "cell_type": "markdown",
      "source": [
        "**Genrator is use for memory efFiciency**\n",
        "\n",
        "**use to work with infinite dataset**"
      ],
      "metadata": {
        "id": "U1npH4FtyjVe"
      }
    },
    {
      "cell_type": "code",
      "source": [
        "import sys\n",
        "def fib(n):\n",
        "  a,b = 0,1\n",
        "  for i in range(n):\n",
        "    yield a\n",
        "    a,b = b,a+b\n",
        "\n",
        "def square(nums):\n",
        "  for i in nums:\n",
        "    yield i**2\n",
        "\n",
        "print(sum(square(fib(10))))"
      ],
      "metadata": {
        "colab": {
          "base_uri": "https://localhost:8080/"
        },
        "id": "wb67BHmXzCTE",
        "outputId": "ef6f5f14-05b5-4962-fbc1-399116c054e4"
      },
      "execution_count": null,
      "outputs": [
        {
          "output_type": "stream",
          "name": "stdout",
          "text": [
            "1870\n"
          ]
        }
      ]
    }
  ]
}