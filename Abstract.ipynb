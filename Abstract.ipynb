{
  "nbformat": 4,
  "nbformat_minor": 0,
  "metadata": {
    "colab": {
      "provenance": [],
      "authorship_tag": "ABX9TyMmIVFNysnusqwq84w91Vb+",
      "include_colab_link": true
    },
    "kernelspec": {
      "name": "python3",
      "display_name": "Python 3"
    },
    "language_info": {
      "name": "python"
    }
  },
  "cells": [
    {
      "cell_type": "markdown",
      "metadata": {
        "id": "view-in-github",
        "colab_type": "text"
      },
      "source": [
        "<a href=\"https://colab.research.google.com/github/mlengineer666/Google_colab/blob/main/Abstract.ipynb\" target=\"_parent\"><img src=\"https://colab.research.google.com/assets/colab-badge.svg\" alt=\"Open In Colab\"/></a>"
      ]
    },
    {
      "cell_type": "markdown",
      "source": [
        "# **ABSTRACTION**"
      ],
      "metadata": {
        "id": "FvBL_E3hfjo7"
      }
    },
    {
      "cell_type": "code",
      "execution_count": 1,
      "metadata": {
        "id": "jJT8Ta0Afi4t"
      },
      "outputs": [],
      "source": [
        "from abc import ABC,abstractmethod  # abstract class is a class where there is atleast one abstract method\n",
        "class BankApp(ABC):\n",
        "\n",
        "  def database(self):\n",
        "    print('connected to database')\n",
        "\n",
        "    #  make an abstract method we need to call abstract decorator\n",
        "\n",
        "  @abstractmethod\n",
        "# abstract method is a method where there is no implementation inside method\n",
        "  def security(self):\n",
        "    pass\n",
        "# if we add another abstract method we need call this from mobile class otw it will show error\n",
        "  @abstractmethod\n",
        "  def display(self):\n",
        "    print('Displayed')"
      ]
    },
    {
      "cell_type": "code",
      "source": [
        "class Mobile(BankApp):\n",
        "\n",
        "  def mobile_app(self):\n",
        "    print('login into mobile')\n",
        "\n",
        "\n",
        "  def security(self):\n",
        "    print('mobile')\n",
        "\n",
        "\n",
        "# without this method we get error\n",
        "  def display(self):\n",
        "    print('Yes')"
      ],
      "metadata": {
        "id": "Tk0N21vvk6cy"
      },
      "execution_count": 2,
      "outputs": []
    },
    {
      "cell_type": "code",
      "source": [
        "m = Mobile()\n",
        "m.database()\n",
        "\n",
        "m.security()\n",
        "m.mobile_app()\n",
        "\n",
        "'''we cann't make an object of abstract class'''\n",
        "'''ob = BankApp()'''"
      ],
      "metadata": {
        "colab": {
          "base_uri": "https://localhost:8080/",
          "height": 88
        },
        "id": "QvJZXh6Rm4y3",
        "outputId": "89074d8f-d17a-456b-d4b7-dea7ff0f053c"
      },
      "execution_count": 8,
      "outputs": [
        {
          "output_type": "stream",
          "name": "stdout",
          "text": [
            "connected to database\n",
            "mobile\n",
            "login into mobile\n"
          ]
        },
        {
          "output_type": "execute_result",
          "data": {
            "text/plain": [
              "'ob = BankApp()'"
            ],
            "application/vnd.google.colaboratory.intrinsic+json": {
              "type": "string"
            }
          },
          "metadata": {},
          "execution_count": 8
        }
      ]
    }
  ]
}