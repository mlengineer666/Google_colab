{
  "nbformat": 4,
  "nbformat_minor": 0,
  "metadata": {
    "colab": {
      "provenance": [],
      "authorship_tag": "ABX9TyNdCs9QRFxa4jZKPi1YVtsl",
      "include_colab_link": true
    },
    "kernelspec": {
      "name": "python3",
      "display_name": "Python 3"
    },
    "language_info": {
      "name": "python"
    }
  },
  "cells": [
    {
      "cell_type": "markdown",
      "metadata": {
        "id": "view-in-github",
        "colab_type": "text"
      },
      "source": [
        "<a href=\"https://colab.research.google.com/github/mlengineer666/Google_colab/blob/main/Inheritance_%26_Polymorphism.ipynb\" target=\"_parent\"><img src=\"https://colab.research.google.com/assets/colab-badge.svg\" alt=\"Open In Colab\"/></a>"
      ]
    },
    {
      "cell_type": "code",
      "execution_count": null,
      "metadata": {
        "id": "XVhWjpknhgmn"
      },
      "outputs": [],
      "source": [
        "class atm:\n",
        "  def __init__(self,name):\n",
        "    self.__name = name\n",
        "\n",
        "  def __str__(self):\n",
        "    return f\"{self.__name}\"\n",
        "\n",
        "  def show(self):\n",
        "   return f'{self.__name}'"
      ]
    },
    {
      "cell_type": "code",
      "source": [
        "obj = atm('sandip')\n",
        "obj._atm__name = 'sonu'\n",
        "print(obj)\n",
        "print(id(obj))\n",
        "obj.show()"
      ],
      "metadata": {
        "colab": {
          "base_uri": "https://localhost:8080/",
          "height": 70
        },
        "id": "7Vj9OrcsiB7Q",
        "outputId": "f4f77140-710c-43a1-a7c7-4749f905dacc"
      },
      "execution_count": null,
      "outputs": [
        {
          "output_type": "stream",
          "name": "stdout",
          "text": [
            "sonu\n",
            "134999772207936\n"
          ]
        },
        {
          "output_type": "execute_result",
          "data": {
            "text/plain": [
              "'sonu'"
            ],
            "application/vnd.google.colaboratory.intrinsic+json": {
              "type": "string"
            }
          },
          "metadata": {},
          "execution_count": 25
        }
      ]
    },
    {
      "cell_type": "markdown",
      "source": [
        "*CLASS* RELATIONSHIP\n",
        "\n",
        "\n",
        "*   Aggression\n",
        "*   Inheritance\n",
        "\n"
      ],
      "metadata": {
        "id": "Rd26-oRwtuYP"
      }
    },
    {
      "cell_type": "markdown",
      "source": [
        "### **Aggression**"
      ],
      "metadata": {
        "id": "_-2dYnq2y0Cc"
      }
    },
    {
      "cell_type": "code",
      "source": [
        "class Customer:\n",
        "\n",
        "  def __init__(self,name,gender,address):\n",
        "    self.name = name\n",
        "    self.gender = gender\n",
        "    self.address = address\n",
        "\n",
        "  def print_address(self):\n",
        "    print(self.address.city,self.address.pin,self.address.state)  # here address is my attribute and city , pin , state is attributs of my address so this is how we can access\n",
        "    # because addresss store this 3 info. so when we access this address we will get this 3 info/\n",
        "\n",
        "    # _Address__city we can access city by using this method\n",
        "    # or using getter method\n",
        "    print(self.address.get_city()) # for private variable\n",
        "\n",
        "  def edit_profile(self,new_name,new_city,new_pin,new_state):\n",
        "    self.name = new_name\n",
        "    self.address.edit_address(new_city,new_pin,new_state)\n",
        "\n",
        "class Address:\n",
        "\n",
        "  def __init__(self,city,pin,state):\n",
        "    self.city = city\n",
        "    self.pin = pin\n",
        "    self.state = state\n",
        "\n",
        "  # def get_city(self):\n",
        "  #   return self.__city  \"\"\" If there is any private varible use this \"\"\"\n",
        "\n",
        "  def edit_address(self,new_city,new_pin,new_state):\n",
        "    self.city = new_city\n",
        "    self.pin = new_pin\n",
        "    self.state = new_state\n",
        "\n",
        "\n",
        "\n",
        "    # 1st make a object of address class because address is not a word address is a info. so that's why we make an object of address and then pass the address in customer class\n",
        "ads = Address('kolkata',711227,'west bengal')\n",
        "    # make a object of customer class\n",
        "cust = Customer('nitin','Male',ads)\n",
        "\n",
        "cust.print_address()\n",
        "\n",
        "cust.edit_profile('sanju','gurgaon',777111,'Mumbai')\n",
        "cust.print_address()\n"
      ],
      "metadata": {
        "colab": {
          "base_uri": "https://localhost:8080/"
        },
        "id": "-gSuUYlTvRTq",
        "outputId": "c2bf6a81-5f6b-4c9d-ceee-6e86e071263b"
      },
      "execution_count": null,
      "outputs": [
        {
          "output_type": "stream",
          "name": "stdout",
          "text": [
            "kolkata 711227 west bengal\n",
            "kolkata\n",
            "gurgaon 777111 Mumbai\n",
            "gurgaon\n"
          ]
        }
      ]
    },
    {
      "cell_type": "markdown",
      "source": [
        "# **INHERITENCE**"
      ],
      "metadata": {
        "id": "Hyx-ri6TkLQX"
      }
    },
    {
      "cell_type": "code",
      "source": [
        "# so basically we create a parent class call user and user have 2 child class\n",
        "# user class contain login and register so our child classes can access that"
      ],
      "metadata": {
        "id": "Bj4-gQoFydla"
      },
      "execution_count": null,
      "outputs": []
    },
    {
      "cell_type": "code",
      "source": [
        "# parent class\n",
        "class User:\n",
        "\n",
        "  def __init__(self):\n",
        "    self.name = 'pratik'\n",
        "\n",
        "  def __str__(self):\n",
        "    return self.name  # instead of using or passing this name into student we can use this so there will be no error\n",
        "\n",
        "  def login(self):\n",
        "    print('login')\n",
        "\n",
        "\n",
        "# child class\n",
        "\n",
        "class Student(User): # when we use () brackets infront of our class and pass the other class, so child class is which takes the other class as parameter and other class is parent class\n",
        "\n",
        "  def __init__(self):\n",
        "    self.roll_no = 100\n",
        "    self.name = u.name #-> # if we don't pass this u.name it will give us error\n",
        "\n",
        "  def enroll(self):\n",
        "    print('Enrolled')\n",
        "# so our child class also access his own things as well as his parent things\n",
        "\n"
      ],
      "metadata": {
        "id": "VfU1TIpJkKMm"
      },
      "execution_count": null,
      "outputs": []
    },
    {
      "cell_type": "code",
      "source": [
        "u = User()\n",
        "s = Student()\n",
        "\n",
        "s.enroll()\n",
        "s.name"
      ],
      "metadata": {
        "colab": {
          "base_uri": "https://localhost:8080/",
          "height": 53
        },
        "id": "jMv3P01T00A4",
        "outputId": "037753fa-a31b-498c-ea55-9b00b55974e9"
      },
      "execution_count": null,
      "outputs": [
        {
          "output_type": "stream",
          "name": "stdout",
          "text": [
            "Enrolled\n"
          ]
        },
        {
          "output_type": "execute_result",
          "data": {
            "text/plain": [
              "'pratik'"
            ],
            "application/vnd.google.colaboratory.intrinsic+json": {
              "type": "string"
            }
          },
          "metadata": {},
          "execution_count": 4
        }
      ]
    },
    {
      "cell_type": "code",
      "source": [
        "# constructor example\n",
        "class Phone:\n",
        "  def __init__(self,price,brand,camera):\n",
        "    print('inside phone constructor')\n",
        "    self.price = price\n",
        "    self.brand = brand\n",
        "    self.camera = camera\n",
        "\n",
        "  def buy(self):\n",
        "    print('Buying a new phone')\n",
        "\n",
        "class SmartPhone(Phone):\n",
        "    pass\n",
        "\n",
        "s = SmartPhone(20000,'samsung','sony')\n",
        "s.buy()\n",
        "#  if there is no constructor inside child function it will print the consturctor inside the parent class"
      ],
      "metadata": {
        "colab": {
          "base_uri": "https://localhost:8080/"
        },
        "id": "l-CHCkYFI28n",
        "outputId": "33fb008d-8aab-44c7-c387-cfe976ae42a7"
      },
      "execution_count": null,
      "outputs": [
        {
          "output_type": "stream",
          "name": "stdout",
          "text": [
            "inside phone constructor\n",
            "Buying a new phone\n"
          ]
        }
      ]
    },
    {
      "cell_type": "code",
      "source": [
        "class phone:\n",
        "  def __init__(self,name):\n",
        "    self.name = name\n",
        "\n",
        "  def buy(self):\n",
        "    print(\"iphone\")\n",
        "\n",
        "class smartphone(phone):\n",
        "  def buy(self):\n",
        "    print('samsung')\n",
        "    super().buy() # this is use for call parent class buy method\n",
        "\n",
        "s = smartphone('janu')\n",
        "s.buy()"
      ],
      "metadata": {
        "id": "SGWg6sghOKul",
        "colab": {
          "base_uri": "https://localhost:8080/"
        },
        "outputId": "5f289ff7-77c9-4ee1-b30e-354c0f99e95c"
      },
      "execution_count": null,
      "outputs": [
        {
          "output_type": "stream",
          "name": "stdout",
          "text": [
            "samsung\n",
            "iphone\n"
          ]
        }
      ]
    },
    {
      "cell_type": "markdown",
      "source": [
        "usage of super keyword"
      ],
      "metadata": {
        "id": "Xk1HZb_goVzF"
      }
    },
    {
      "cell_type": "code",
      "source": [
        "# single inheritance\n",
        "class Phone:\n",
        "  def __init__(self,brand,price,camera):\n",
        "    print('inside phone constructor')\n",
        "    self.brand = brand\n",
        "    self.price = price\n",
        "    self.camera = camera\n",
        "\n",
        "class Smartphone(Phone):\n",
        "  def __init__(self,brand,price,camera,os,ram):\n",
        "    print('inside smartphone constructor')\n",
        "    super().__init__(brand,price,camera) # we call the parent class consturctor\n",
        "    self.os = os\n",
        "    self.ram = ram\n",
        "    print('inside smartphone constructor')\n",
        "\n",
        "s = Smartphone('samsung',20000,13,'Android',8)\n",
        "\n",
        "# here when we pass this value 1st call this child class constructor and then inside child class we call parent class consturctor"
      ],
      "metadata": {
        "colab": {
          "base_uri": "https://localhost:8080/"
        },
        "id": "PCirHCJvoT8N",
        "outputId": "2a9b70e0-e530-446a-962c-5c17dda426e0"
      },
      "execution_count": null,
      "outputs": [
        {
          "output_type": "stream",
          "name": "stdout",
          "text": [
            "inside smartphone constructor\n",
            "inside phone constructor\n",
            "inside smartphone constructor\n"
          ]
        },
        {
          "output_type": "execute_result",
          "data": {
            "text/plain": [
              "20000"
            ]
          },
          "metadata": {},
          "execution_count": 13
        }
      ]
    },
    {
      "cell_type": "code",
      "source": [
        "# multiple inheritance\n",
        "class Papa:\n",
        "\n",
        "  def __init__(self):\n",
        "    self.name = 'Prabir'\n",
        "\n",
        "  def buy(self):\n",
        "    print('buying a smartphone')\n",
        "\n",
        "class Mummy():\n",
        "  def __init__(self):\n",
        "    self.name = 'Sagarika'\n",
        "\n",
        "  def buy(self):\n",
        "    print('buying a phone')\n",
        "\n",
        "class Me(Mummy,Papa):  # this is call method resolution order  [ 1st place thing is higher priority]\n",
        " pass\n",
        "\n",
        "s = Me()\n",
        "s.name\n",
        "s.buy()"
      ],
      "metadata": {
        "id": "QqHSCIaTvmd6",
        "colab": {
          "base_uri": "https://localhost:8080/"
        },
        "outputId": "39a1a984-4c93-4f5e-9a72-322f494adbd4"
      },
      "execution_count": null,
      "outputs": [
        {
          "output_type": "stream",
          "name": "stdout",
          "text": [
            "buying a phone\n"
          ]
        }
      ]
    }
  ]
}