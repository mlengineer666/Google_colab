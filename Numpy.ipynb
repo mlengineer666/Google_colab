{
  "nbformat": 4,
  "nbformat_minor": 0,
  "metadata": {
    "colab": {
      "provenance": [],
      "authorship_tag": "ABX9TyMxWN1outMKtAkH0m0XOfwm",
      "include_colab_link": true
    },
    "kernelspec": {
      "name": "python3",
      "display_name": "Python 3"
    },
    "language_info": {
      "name": "python"
    }
  },
  "cells": [
    {
      "cell_type": "markdown",
      "metadata": {
        "id": "view-in-github",
        "colab_type": "text"
      },
      "source": [
        "<a href=\"https://colab.research.google.com/github/mlengineer666/Google_colab/blob/main/Numpy.ipynb\" target=\"_parent\"><img src=\"https://colab.research.google.com/assets/colab-badge.svg\" alt=\"Open In Colab\"/></a>"
      ]
    },
    {
      "cell_type": "markdown",
      "source": [
        "# **Creating Numpy Array**"
      ],
      "metadata": {
        "id": "h3svcpEPRY1K"
      }
    },
    {
      "cell_type": "markdown",
      "source": [
        "**1D array**"
      ],
      "metadata": {
        "id": "NojwHtdeTiqO"
      }
    },
    {
      "cell_type": "code",
      "execution_count": null,
      "metadata": {
        "colab": {
          "base_uri": "https://localhost:8080/"
        },
        "id": "hbsP1XwMK9_l",
        "outputId": "d93903af-a468-4967-bf64-dd34ae98413d"
      },
      "outputs": [
        {
          "output_type": "stream",
          "name": "stdout",
          "text": [
            "[1 2 3]\n"
          ]
        }
      ],
      "source": [
        "import numpy as np\n",
        "\n",
        "a = np.array([1,2,3])\n",
        "print(a)"
      ]
    },
    {
      "cell_type": "markdown",
      "source": [
        "**2D array**"
      ],
      "metadata": {
        "id": "iIyIxVToTe_H"
      }
    },
    {
      "cell_type": "code",
      "source": [
        "import numpy as np\n",
        "b = np.array([[1,2,3],[4,5,6]])\n",
        "print(b)"
      ],
      "metadata": {
        "colab": {
          "base_uri": "https://localhost:8080/"
        },
        "id": "RO7CboAnSlwT",
        "outputId": "9d0c64d7-8171-47ce-921f-9495986029ac"
      },
      "execution_count": null,
      "outputs": [
        {
          "output_type": "stream",
          "name": "stdout",
          "text": [
            "[[1 2 3]\n",
            " [4 5 6]]\n"
          ]
        }
      ]
    },
    {
      "cell_type": "markdown",
      "source": [
        "**3D array**"
      ],
      "metadata": {
        "id": "miKoWKQ_Taj4"
      }
    },
    {
      "cell_type": "code",
      "source": [
        "import numpy as np\n",
        "c = np.array([[[1,2,3],[4,5,6]],[[7,8,9],[12,13,14]]])\n",
        "print(c)"
      ],
      "metadata": {
        "colab": {
          "base_uri": "https://localhost:8080/"
        },
        "id": "PgukK8RcTG1r",
        "outputId": "ee6dd3d0-0c57-4fab-a8c5-3ff76d8fc01d"
      },
      "execution_count": null,
      "outputs": [
        {
          "output_type": "stream",
          "name": "stdout",
          "text": [
            "[[[ 1  2  3]\n",
            "  [ 4  5  6]]\n",
            "\n",
            " [[ 7  8  9]\n",
            "  [12 13 14]]]\n"
          ]
        }
      ]
    },
    {
      "cell_type": "markdown",
      "source": [
        "**using predefined datatype**"
      ],
      "metadata": {
        "id": "2YdwJJSmVaa0"
      }
    },
    {
      "cell_type": "code",
      "source": [
        "# dtype\n",
        "import numpy as np\n",
        "d = np.array([1,2,3,4],dtype=float)\n",
        "print(d)"
      ],
      "metadata": {
        "colab": {
          "base_uri": "https://localhost:8080/"
        },
        "id": "EKmQ3F5mVZut",
        "outputId": "8aba93bb-f8bb-423b-e7f6-5a8f72db75b4"
      },
      "execution_count": null,
      "outputs": [
        {
          "output_type": "stream",
          "name": "stdout",
          "text": [
            "[1. 2. 3. 4.]\n"
          ]
        }
      ]
    },
    {
      "cell_type": "markdown",
      "source": [
        "**arange is use for (what is the range of my array)**"
      ],
      "metadata": {
        "id": "Crtzff7JWVa-"
      }
    },
    {
      "cell_type": "code",
      "source": [
        "import numpy as np\n",
        "np.arange(1,11)\n"
      ],
      "metadata": {
        "colab": {
          "base_uri": "https://localhost:8080/"
        },
        "id": "JwBuSJI4WE_O",
        "outputId": "e796a461-0a82-407e-c16f-46d59c6fd29e"
      },
      "execution_count": null,
      "outputs": [
        {
          "output_type": "execute_result",
          "data": {
            "text/plain": [
              "array([ 1,  2,  3,  4,  5,  6,  7,  8,  9, 10])"
            ]
          },
          "metadata": {},
          "execution_count": 21
        }
      ]
    },
    {
      "cell_type": "markdown",
      "source": [
        "**reshape is use for provide us what will be the array shape e.g-> it can be 2D,3D or nD**"
      ],
      "metadata": {
        "id": "aGGdi3LlW_21"
      }
    },
    {
      "cell_type": "code",
      "source": [
        "import numpy as np\n",
        "np.arange(1,13).reshape(6,2)"
      ],
      "metadata": {
        "colab": {
          "base_uri": "https://localhost:8080/"
        },
        "id": "cOSjMfczXiiV",
        "outputId": "f722dc0a-9cd2-427f-d8a5-bf7042a38947"
      },
      "execution_count": null,
      "outputs": [
        {
          "output_type": "execute_result",
          "data": {
            "text/plain": [
              "array([[ 1,  2],\n",
              "       [ 3,  4],\n",
              "       [ 5,  6],\n",
              "       [ 7,  8],\n",
              "       [ 9, 10],\n",
              "       [11, 12]])"
            ]
          },
          "metadata": {},
          "execution_count": 27
        }
      ]
    },
    {
      "cell_type": "code",
      "source": [
        "import numpy as np\n",
        "np.ones((5,5))"
      ],
      "metadata": {
        "colab": {
          "base_uri": "https://localhost:8080/"
        },
        "id": "eXNSv_NeYuEA",
        "outputId": "0ba825ab-9e5f-4598-ee83-6f5d79e4bcfc"
      },
      "execution_count": null,
      "outputs": [
        {
          "output_type": "execute_result",
          "data": {
            "text/plain": [
              "array([[1., 1., 1., 1., 1.],\n",
              "       [1., 1., 1., 1., 1.],\n",
              "       [1., 1., 1., 1., 1.],\n",
              "       [1., 1., 1., 1., 1.],\n",
              "       [1., 1., 1., 1., 1.]])"
            ]
          },
          "metadata": {},
          "execution_count": 29
        }
      ]
    },
    {
      "cell_type": "code",
      "source": [
        "import numpy as np\n",
        "np.zeros((9,3))"
      ],
      "metadata": {
        "colab": {
          "base_uri": "https://localhost:8080/"
        },
        "id": "QZfzNpWAZuwc",
        "outputId": "4b589362-49d2-4c0b-de47-8e6c96f477bd"
      },
      "execution_count": null,
      "outputs": [
        {
          "output_type": "execute_result",
          "data": {
            "text/plain": [
              "array([[0., 0., 0.],\n",
              "       [0., 0., 0.],\n",
              "       [0., 0., 0.],\n",
              "       [0., 0., 0.],\n",
              "       [0., 0., 0.],\n",
              "       [0., 0., 0.],\n",
              "       [0., 0., 0.],\n",
              "       [0., 0., 0.],\n",
              "       [0., 0., 0.]])"
            ]
          },
          "metadata": {},
          "execution_count": 30
        }
      ]
    },
    {
      "cell_type": "code",
      "source": [
        "import numpy as np\n",
        "np.random.random((3,4))"
      ],
      "metadata": {
        "colab": {
          "base_uri": "https://localhost:8080/"
        },
        "id": "3DLhJyylaLif",
        "outputId": "26e694d3-fe8f-428b-8b32-4f9be19601b2"
      },
      "execution_count": null,
      "outputs": [
        {
          "output_type": "execute_result",
          "data": {
            "text/plain": [
              "array([[0.42004247, 0.24913191, 0.41557042, 0.04827755],\n",
              "       [0.02705873, 0.6652686 , 0.45517691, 0.09869821],\n",
              "       [0.03785291, 0.14387625, 0.00182877, 0.83867863]])"
            ]
          },
          "metadata": {},
          "execution_count": 33
        }
      ]
    },
    {
      "cell_type": "code",
      "source": [
        "import numpy as np\n",
        "np.linspace(-10,10,10)"
      ],
      "metadata": {
        "colab": {
          "base_uri": "https://localhost:8080/"
        },
        "id": "ejxx3G8JavuL",
        "outputId": "3fa9bbe8-2256-4115-8f0f-d6074979397d"
      },
      "execution_count": null,
      "outputs": [
        {
          "output_type": "execute_result",
          "data": {
            "text/plain": [
              "array([-10.        ,  -7.77777778,  -5.55555556,  -3.33333333,\n",
              "        -1.11111111,   1.11111111,   3.33333333,   5.55555556,\n",
              "         7.77777778,  10.        ])"
            ]
          },
          "metadata": {},
          "execution_count": 35
        }
      ]
    },
    {
      "cell_type": "markdown",
      "source": [
        "**Linear space is use for to perform task in given range**"
      ],
      "metadata": {
        "id": "l0oz6vonbfHc"
      }
    },
    {
      "cell_type": "code",
      "source": [
        "# linspace\n",
        "import numpy as np\n",
        "np.linspace(-10,10,10)  # here -10 is lower range and 10 is upper range and 10 is total number generated by this given range"
      ],
      "metadata": {
        "id": "i9Qee6FVbafA",
        "outputId": "3a197eee-d396-4ca9-d17c-89ff3bfd120f",
        "colab": {
          "base_uri": "https://localhost:8080/"
        }
      },
      "execution_count": null,
      "outputs": [
        {
          "output_type": "execute_result",
          "data": {
            "text/plain": [
              "array([-10.        ,  -7.77777778,  -5.55555556,  -3.33333333,\n",
              "        -1.11111111,   1.11111111,   3.33333333,   5.55555556,\n",
              "         7.77777778,  10.        ])"
            ]
          },
          "metadata": {},
          "execution_count": 1
        }
      ]
    },
    {
      "cell_type": "code",
      "source": [
        "import numpy as np\n",
        "np.identity(3)"
      ],
      "metadata": {
        "id": "pOCtICxPcWcC",
        "outputId": "d8a87c12-5df1-4362-e4a8-74e92f03d6ee",
        "colab": {
          "base_uri": "https://localhost:8080/"
        }
      },
      "execution_count": null,
      "outputs": [
        {
          "output_type": "execute_result",
          "data": {
            "text/plain": [
              "array([[1., 0., 0.],\n",
              "       [0., 1., 0.],\n",
              "       [0., 0., 1.]])"
            ]
          },
          "metadata": {},
          "execution_count": 36
        }
      ]
    },
    {
      "cell_type": "markdown",
      "source": [
        "Attribute"
      ],
      "metadata": {
        "id": "dS4EyfCJL9-K"
      }
    },
    {
      "cell_type": "markdown",
      "source": [
        "(i) ndim\n",
        "\n",
        "ndim is use to check dimension of my array"
      ],
      "metadata": {
        "id": "s1oqBYu9MJYm"
      }
    },
    {
      "cell_type": "code",
      "source": [
        "import numpy as np\n",
        "a1 = np.arange(1,11)\n",
        "a2 = np.arange(1,13,dtype =float).reshape(3,4)\n",
        "a3 = np.arange(1,28).reshape(3,3,3)\n",
        "print(a1.ndim)\n",
        "print(a2.ndim)\n",
        "print(a3.ndim)"
      ],
      "metadata": {
        "colab": {
          "base_uri": "https://localhost:8080/"
        },
        "id": "iOkxxkHyKXlq",
        "outputId": "7a65648f-6dd5-4248-ea94-7d49c79a6742"
      },
      "execution_count": null,
      "outputs": [
        {
          "output_type": "stream",
          "name": "stdout",
          "text": [
            "1\n",
            "2\n",
            "3\n"
          ]
        }
      ]
    },
    {
      "cell_type": "markdown",
      "source": [
        "(ii) Shape\n",
        "\n",
        "shape is use to check no. of rows and no. of column"
      ],
      "metadata": {
        "id": "y4dxXXy7M3YG"
      }
    },
    {
      "cell_type": "code",
      "source": [
        "a1.shape\n",
        "a2.shape\n",
        "a3.shape"
      ],
      "metadata": {
        "colab": {
          "base_uri": "https://localhost:8080/"
        },
        "id": "8_mmjygmNMdx",
        "outputId": "030626d6-3460-4274-ed81-a9182b98d5a4"
      },
      "execution_count": null,
      "outputs": [
        {
          "output_type": "execute_result",
          "data": {
            "text/plain": [
              "(3, 3, 3)"
            ]
          },
          "metadata": {},
          "execution_count": 6
        }
      ]
    },
    {
      "cell_type": "markdown",
      "source": [
        "(iii) size\n",
        "\n",
        "size is use to check no. of item in array"
      ],
      "metadata": {
        "id": "9Prip57gNSiE"
      }
    },
    {
      "cell_type": "code",
      "source": [
        "a1.size\n",
        "a2.size\n",
        "a3.size"
      ],
      "metadata": {
        "colab": {
          "base_uri": "https://localhost:8080/"
        },
        "id": "UT2a8jtvNbtB",
        "outputId": "404994d7-dffb-46a5-9c56-bf88b3eab219"
      },
      "execution_count": null,
      "outputs": [
        {
          "output_type": "execute_result",
          "data": {
            "text/plain": [
              "27"
            ]
          },
          "metadata": {},
          "execution_count": 10
        }
      ]
    },
    {
      "cell_type": "markdown",
      "source": [
        "(iv) itemsize\n",
        "\n",
        "to check how much memory is ocuupied by the item\n",
        "\n",
        "remember int,float in INT_64 always take 8 bytes  and  INT_32 takes 4 bytes"
      ],
      "metadata": {
        "id": "HP7g25YbOEAH"
      }
    },
    {
      "cell_type": "code",
      "source": [
        "a1.itemsize\n",
        "a2.itemsize\n",
        "a3.itemsize"
      ],
      "metadata": {
        "colab": {
          "base_uri": "https://localhost:8080/"
        },
        "id": "wcU2Q6u6ODgI",
        "outputId": "283ce10e-80f1-456d-f76b-3c3c422ac7e8"
      },
      "execution_count": null,
      "outputs": [
        {
          "output_type": "execute_result",
          "data": {
            "text/plain": [
              "8"
            ]
          },
          "metadata": {},
          "execution_count": 20
        }
      ]
    },
    {
      "cell_type": "markdown",
      "source": [
        "(v) dtype\n",
        "\n",
        "is use to check data type of my array"
      ],
      "metadata": {
        "id": "iIVHH3SYO9Sw"
      }
    },
    {
      "cell_type": "code",
      "source": [
        "a1.dtype\n",
        "a2.dtype\n",
        "a3.dtype"
      ],
      "metadata": {
        "colab": {
          "base_uri": "https://localhost:8080/"
        },
        "id": "dicyD0mRPEbe",
        "outputId": "bb07e3b5-513a-48ea-e731-d8b54c4d5e89"
      },
      "execution_count": null,
      "outputs": [
        {
          "output_type": "execute_result",
          "data": {
            "text/plain": [
              "dtype('int64')"
            ]
          },
          "metadata": {},
          "execution_count": 31
        }
      ]
    },
    {
      "cell_type": "markdown",
      "source": [
        " Changing Datatype"
      ],
      "metadata": {
        "id": "RXFdbXhrPynE"
      }
    },
    {
      "cell_type": "code",
      "source": [
        "a2.astype(np.int32)"
      ],
      "metadata": {
        "colab": {
          "base_uri": "https://localhost:8080/"
        },
        "id": "XQizP3gdPxog",
        "outputId": "14b2e979-ed8f-467b-f020-68b58180ac99"
      },
      "execution_count": null,
      "outputs": [
        {
          "output_type": "execute_result",
          "data": {
            "text/plain": [
              "array([[ 1,  2,  3,  4],\n",
              "       [ 5,  6,  7,  8],\n",
              "       [ 9, 10, 11, 12]], dtype=int32)"
            ]
          },
          "metadata": {},
          "execution_count": 42
        }
      ]
    },
    {
      "cell_type": "markdown",
      "source": [
        "**Array Operations**\n",
        "\n",
        "(i) Scaler Operation"
      ],
      "metadata": {
        "id": "uuii900kTmqJ"
      }
    },
    {
      "cell_type": "code",
      "source": [
        "import numpy as np\n",
        "a1 = np.arange(1,13).reshape(3,4)\n",
        "a2 = np.arange(12,24).reshape(3,4)\n",
        "\n",
        "# Arithmetic operation\n",
        "print('Before multiplication')\n",
        "print(a1)\n",
        "print('\\nAfter multiplication')   # we can perform any operation\n",
        "a1^2\n",
        "a1+2\n",
        "a1-2\n",
        "a1*2\n",
        "a1/2\n",
        "a1//2\n",
        "a1%2\n"
      ],
      "metadata": {
        "colab": {
          "base_uri": "https://localhost:8080/"
        },
        "id": "nRoqJGYKTsgp",
        "outputId": "93c48d88-dec6-492e-97ad-9b54aca8bdeb"
      },
      "execution_count": null,
      "outputs": [
        {
          "output_type": "stream",
          "name": "stdout",
          "text": [
            "Before multiplication\n",
            "[[ 1  2  3  4]\n",
            " [ 5  6  7  8]\n",
            " [ 9 10 11 12]]\n",
            "\n",
            "After multiplication\n"
          ]
        },
        {
          "output_type": "execute_result",
          "data": {
            "text/plain": [
              "array([[1, 0, 1, 0],\n",
              "       [1, 0, 1, 0],\n",
              "       [1, 0, 1, 0]])"
            ]
          },
          "metadata": {},
          "execution_count": 2
        }
      ]
    },
    {
      "cell_type": "code",
      "source": [
        "# Relational oprator\n",
        "\n",
        "a2>12  # it will checck is my array numbers is greater or not\n",
        "a2<5\n",
        "a2>=5\n",
        "a2<=5\n",
        "a2==5\n",
        "a2!=5\n"
      ],
      "metadata": {
        "colab": {
          "base_uri": "https://localhost:8080/"
        },
        "id": "7nxIixL0V9d_",
        "outputId": "c6a6b768-265b-45ad-f5de-79f1402fb1fd"
      },
      "execution_count": null,
      "outputs": [
        {
          "output_type": "execute_result",
          "data": {
            "text/plain": [
              "array([[ True,  True,  True,  True],\n",
              "       [ True,  True,  True,  True],\n",
              "       [ True,  True,  True,  True]])"
            ]
          },
          "metadata": {},
          "execution_count": 68
        }
      ]
    },
    {
      "cell_type": "code",
      "source": [
        "# vector operation\n",
        "# where we can perform operation on arrays\n",
        "\n",
        "a1*a2\n",
        "a1+a2\n",
        "a1-a2\n",
        "a1/a2\n",
        "a1//a2\n",
        "a1%a2\n",
        "a1**a2\n"
      ],
      "metadata": {
        "colab": {
          "base_uri": "https://localhost:8080/"
        },
        "id": "SzuM0OMaXaCL",
        "outputId": "00a64827-e5d3-4d02-9d15-33513b3d555f"
      },
      "execution_count": null,
      "outputs": [
        {
          "output_type": "execute_result",
          "data": {
            "text/plain": [
              "array([[                   1,                 8192,              4782969,\n",
              "                  1073741824],\n",
              "       [        152587890625,       16926659444736,     1628413597910449,\n",
              "          144115188075855872],\n",
              "       [-6289078614652622815,  3875820019684212736, -2732210440490168087,\n",
              "        -5038753926841630720]])"
            ]
          },
          "metadata": {},
          "execution_count": 90
        }
      ]
    },
    {
      "cell_type": "code",
      "source": [
        "a1 = np.arange(1,11).reshape(2,5)\n",
        "a2 = np.arange(12,24).reshape(3,4)\n",
        "\n",
        "\n",
        "a3 = np.random.random((3,3))\n",
        "a3 = np.round(a3*100)\n",
        "print(a3)"
      ],
      "metadata": {
        "id": "5Eki5ebLZUQW",
        "colab": {
          "base_uri": "https://localhost:8080/"
        },
        "outputId": "5bf933e7-7ad2-4709-87ec-36d3ae1c0f27"
      },
      "execution_count": null,
      "outputs": [
        {
          "output_type": "stream",
          "name": "stdout",
          "text": [
            "[[ 7.  1. 13.]\n",
            " [96.  1. 21.]\n",
            " [ 0. 84. 48.]]\n"
          ]
        }
      ]
    },
    {
      "cell_type": "code",
      "source": [
        "# max/min/sum\n",
        "a3 = np.random.random((3,3))\n",
        "print(a3)\n",
        "np.max(a3)\n",
        "np.min(a3)\n",
        "np.sum(a3)\n",
        "np.prod(a3)"
      ],
      "metadata": {
        "colab": {
          "base_uri": "https://localhost:8080/"
        },
        "id": "jjdHarpV3-mo",
        "outputId": "61f77104-1523-4b32-963a-57081723708a"
      },
      "execution_count": null,
      "outputs": [
        {
          "output_type": "stream",
          "name": "stdout",
          "text": [
            "[[0.83092596 0.78166501 0.79247054]\n",
            " [0.98381446 0.83843216 0.91685274]\n",
            " [0.83321387 0.64367778 0.32449339]]\n"
          ]
        },
        {
          "output_type": "execute_result",
          "data": {
            "text/plain": [
              "0.06774507172752255"
            ]
          },
          "metadata": {},
          "execution_count": 21
        }
      ]
    },
    {
      "cell_type": "code",
      "source": [
        "#  What if we want maximum of all rows and columns\n",
        "np.max(a3,axis=1) # axis = 1 means row\n",
        "np.max(a3,axis=0) # axis = 0 means column\n",
        "\n",
        "\n",
        "#  What if we want minimum of all rows and columns\n",
        "np.min(a1,axis=0)\n",
        "np.min(a1,axis=1)\n",
        "\n",
        "#  What if we want sum of all rows and columns\n",
        "np.prod(a1,axis=0)"
      ],
      "metadata": {
        "colab": {
          "base_uri": "https://localhost:8080/"
        },
        "id": "QVCKdEcz57Pu",
        "outputId": "d5304006-ce90-477f-f980-78bf6de1ad18"
      },
      "execution_count": null,
      "outputs": [
        {
          "output_type": "execute_result",
          "data": {
            "text/plain": [
              "array([ 6, 14, 24, 36, 50])"
            ]
          },
          "metadata": {},
          "execution_count": 26
        }
      ]
    },
    {
      "cell_type": "code",
      "source": [
        "# STATISTICAL OPERATION\n",
        "print(a1)\n",
        "np.mean(a1)\n",
        "# np.mean(a1,axis=1)\n",
        "np.std(a1)\n",
        "# np.var(a1)\n",
        "# np.median(a1\n",
        "\n",
        "# TRIGONOMETRIC OPERATION\n",
        "np.sin(a1)\n",
        "np.cos(a1)\n",
        "np.tan(a1)\n"
      ],
      "metadata": {
        "colab": {
          "base_uri": "https://localhost:8080/"
        },
        "id": "smlP69vSEbb6",
        "outputId": "e8953731-f7ce-4988-a32e-ceafa29935c9"
      },
      "execution_count": null,
      "outputs": [
        {
          "output_type": "stream",
          "name": "stdout",
          "text": [
            "[[ 1  2  3  4  5]\n",
            " [ 6  7  8  9 10]]\n"
          ]
        },
        {
          "output_type": "execute_result",
          "data": {
            "text/plain": [
              "array([[ 1.18839511,  1.09975017,  7.0861674 , -1.32134871, -1.04283521],\n",
              "       [-3.57889955,  1.52210106,  1.01075622,  2.42648664, -1.83816396]])"
            ]
          },
          "metadata": {},
          "execution_count": 39
        }
      ]
    },
    {
      "cell_type": "code",
      "source": [
        "# DOT PRODUCT\n",
        "# in case of dot product we will check 1st array column and 2nd array row match then dot product is possible either not\n",
        "a = np.arange(1,13).reshape(3,4)\n",
        "b = np.arange(1,13).reshape(4,3)\n",
        "np.dot(a,b)"
      ],
      "metadata": {
        "colab": {
          "base_uri": "https://localhost:8080/"
        },
        "id": "68h9POYJF0SD",
        "outputId": "9afebb9d-0ba2-4839-cadf-23eab693f544"
      },
      "execution_count": null,
      "outputs": [
        {
          "output_type": "execute_result",
          "data": {
            "text/plain": [
              "array([[ 70,  80,  90],\n",
              "       [158, 184, 210],\n",
              "       [246, 288, 330]])"
            ]
          },
          "metadata": {},
          "execution_count": 3
        }
      ]
    },
    {
      "cell_type": "code",
      "source": [
        "# Log and Exponential\n",
        "np.log(a)\n",
        "np.exp(a)\n",
        "np.sqrt(a)"
      ],
      "metadata": {
        "colab": {
          "base_uri": "https://localhost:8080/"
        },
        "id": "a9_XQP-2R6wW",
        "outputId": "7d68f0d5-2532-4a9d-dfca-4e06d1fead49"
      },
      "execution_count": null,
      "outputs": [
        {
          "output_type": "execute_result",
          "data": {
            "text/plain": [
              "array([[1.        , 1.41421356, 1.73205081, 2.        ],\n",
              "       [2.23606798, 2.44948974, 2.64575131, 2.82842712],\n",
              "       [3.        , 3.16227766, 3.31662479, 3.46410162]])"
            ]
          },
          "metadata": {},
          "execution_count": 6
        }
      ]
    },
    {
      "cell_type": "code",
      "source": [
        "# using round\n",
        "a = np.random.random((2,2))\n",
        "print(a)\n",
        "print(np.round(a*100))"
      ],
      "metadata": {
        "colab": {
          "base_uri": "https://localhost:8080/"
        },
        "id": "0pPpTeBeSvVf",
        "outputId": "2af001a4-ee24-4d7b-dbf5-1e550cd28788"
      },
      "execution_count": null,
      "outputs": [
        {
          "output_type": "stream",
          "name": "stdout",
          "text": [
            "[[0.29752502 0.17513228]\n",
            " [0.28527213 0.55250913]]\n",
            "[[30. 18.]\n",
            " [29. 55.]]\n"
          ]
        }
      ]
    },
    {
      "cell_type": "code",
      "source": [
        "# using floor\n",
        "# it will print the backward integer e.g-> if 6.9 it will print 6\n",
        "a = np.random.random((3,2))\n",
        "print(a)\n",
        "print(np.floor(a))"
      ],
      "metadata": {
        "colab": {
          "base_uri": "https://localhost:8080/"
        },
        "id": "BMqnHBKuVJ4z",
        "outputId": "e7b05ffe-3f95-4509-9f1b-ff2fb90d9865"
      },
      "execution_count": null,
      "outputs": [
        {
          "output_type": "stream",
          "name": "stdout",
          "text": [
            "[[0.60558981 0.1028488 ]\n",
            " [0.2295599  0.80984718]\n",
            " [0.54672117 0.99110094]]\n",
            "[[0. 0.]\n",
            " [0. 0.]\n",
            " [0. 0.]]\n"
          ]
        }
      ]
    },
    {
      "cell_type": "code",
      "source": [
        "# ceil\n",
        "# it will print the forward integer e.g-> if 6.1 it will print 7\n",
        "a = np.random.random((3,2))\n",
        "print(a)\n",
        "print(np.ceil(a))"
      ],
      "metadata": {
        "colab": {
          "base_uri": "https://localhost:8080/"
        },
        "id": "Um3hr3UvWHHC",
        "outputId": "96c6d7ed-d86e-4892-ac1c-405d40f99c8e"
      },
      "execution_count": null,
      "outputs": [
        {
          "output_type": "stream",
          "name": "stdout",
          "text": [
            "[[0.8360858  0.45916956]\n",
            " [0.1891727  0.85028774]\n",
            " [0.45629099 0.70605927]]\n",
            "[[1. 1.]\n",
            " [1. 1.]\n",
            " [1. 1.]]\n"
          ]
        }
      ]
    },
    {
      "cell_type": "code",
      "source": [
        "np.var(a1,axis = 1)  # variance"
      ],
      "metadata": {
        "colab": {
          "base_uri": "https://localhost:8080/"
        },
        "id": "DjPi6xgbWY-L",
        "outputId": "6d288281-b746-4669-ef3e-a80ab4b18168"
      },
      "execution_count": null,
      "outputs": [
        {
          "output_type": "execute_result",
          "data": {
            "text/plain": [
              "array([2., 2.])"
            ]
          },
          "metadata": {},
          "execution_count": 3
        }
      ]
    },
    {
      "cell_type": "markdown",
      "source": [
        "**Indexing and slicing**"
      ],
      "metadata": {
        "id": "EZ1yiSuPxJ_u"
      }
    },
    {
      "cell_type": "code",
      "source": [
        "a1 = np.arange(10)\n",
        "a2 = np.arange(12).reshape(3,4)\n",
        "a3 = np.arange(8).reshape(2,2,2)\n",
        "print(a1)\n",
        "print(a2)\n",
        "print(a3)"
      ],
      "metadata": {
        "colab": {
          "base_uri": "https://localhost:8080/"
        },
        "id": "7Dsxp5_ZxVjq",
        "outputId": "b778a1ed-a038-4449-e0d0-7ac6d11046ed"
      },
      "execution_count": null,
      "outputs": [
        {
          "output_type": "stream",
          "name": "stdout",
          "text": [
            "[0 1 2 3 4 5 6 7 8 9]\n",
            "[[ 0  1  2  3]\n",
            " [ 4  5  6  7]\n",
            " [ 8  9 10 11]]\n",
            "[[[0 1]\n",
            "  [2 3]]\n",
            "\n",
            " [[4 5]\n",
            "  [6 7]]]\n"
          ]
        }
      ]
    },
    {
      "cell_type": "code",
      "source": [
        "# 1D array slicing is like as list\n",
        "a1[-1]\n",
        "a1[0:5]\n",
        "# a1[2:5]"
      ],
      "metadata": {
        "colab": {
          "base_uri": "https://localhost:8080/"
        },
        "id": "-RMaNlf9xIGP",
        "outputId": "52361581-ddcb-427a-b9fe-32444cafa7d5"
      },
      "execution_count": null,
      "outputs": [
        {
          "output_type": "execute_result",
          "data": {
            "text/plain": [
              "array([0, 1, 2, 3, 4])"
            ]
          },
          "metadata": {},
          "execution_count": 10
        }
      ]
    },
    {
      "cell_type": "code",
      "source": [
        "''' 2D array slicing is also easy '''\n",
        "\n",
        "# 1st find which row and which col that element is exist\n",
        "''' a2[row_no,col_no] '''\n",
        "print(a2)\n",
        "a2[1,2]\n",
        "a2[1,0]"
      ],
      "metadata": {
        "colab": {
          "base_uri": "https://localhost:8080/"
        },
        "id": "Ct3pt7UrzGZI",
        "outputId": "a7c3e7f1-eb0b-41b7-ace5-dd7ae486303e"
      },
      "execution_count": null,
      "outputs": [
        {
          "output_type": "stream",
          "name": "stdout",
          "text": [
            "[[ 0  1  2  3]\n",
            " [ 4  5  6  7]\n",
            " [ 8  9 10 11]]\n"
          ]
        },
        {
          "output_type": "execute_result",
          "data": {
            "text/plain": [
              "4"
            ]
          },
          "metadata": {},
          "execution_count": 17
        }
      ]
    },
    {
      "cell_type": "code",
      "source": [
        "''' 3D array slicing '''\n",
        "''' step1 find the item no. then row no. and col no.'''\n",
        "''' a3[item no.,row no.,col no.]'''\n",
        "print(a3)\n",
        "a3[1,0,1]\n",
        "a3[1,1,1]\n",
        "a3[0,1,0]"
      ],
      "metadata": {
        "colab": {
          "base_uri": "https://localhost:8080/"
        },
        "id": "yg7LwLxB08R7",
        "outputId": "382d265d-6dc9-43c3-fd60-f09b36413bfe"
      },
      "execution_count": null,
      "outputs": [
        {
          "output_type": "stream",
          "name": "stdout",
          "text": [
            "[[[0 1]\n",
            "  [2 3]]\n",
            "\n",
            " [[4 5]\n",
            "  [6 7]]]\n"
          ]
        },
        {
          "output_type": "execute_result",
          "data": {
            "text/plain": [
              "2"
            ]
          },
          "metadata": {},
          "execution_count": 24
        }
      ]
    },
    {
      "cell_type": "code",
      "source": [
        "''' for 4D we need specify matrix _no, then under the matrix item_no, then row_no, then col_no '''\n",
        "''' a4[matrix_no,item_no,row_no,col_no] '''\n",
        "\n",
        "a4 = np.arange(16).reshape(2,2,2,2)\n",
        "print(a4)\n",
        "a4[1,0,0,1]\n",
        "a4[0,1,1,0]\n"
      ],
      "metadata": {
        "colab": {
          "base_uri": "https://localhost:8080/"
        },
        "id": "PnPuohxw3eoM",
        "outputId": "80f7df6d-4d24-4ed5-826f-b0a4a8ec558e"
      },
      "execution_count": null,
      "outputs": [
        {
          "output_type": "stream",
          "name": "stdout",
          "text": [
            "[[[[ 0  1]\n",
            "   [ 2  3]]\n",
            "\n",
            "  [[ 4  5]\n",
            "   [ 6  7]]]\n",
            "\n",
            "\n",
            " [[[ 8  9]\n",
            "   [10 11]]\n",
            "\n",
            "  [[12 13]\n",
            "   [14 15]]]]\n"
          ]
        },
        {
          "output_type": "execute_result",
          "data": {
            "text/plain": [
              "6"
            ]
          },
          "metadata": {},
          "execution_count": 4
        }
      ]
    },
    {
      "cell_type": "code",
      "source": [
        "# for slicing in 1D is same as list\n",
        "print(a1)\n",
        "a1[2:5]"
      ],
      "metadata": {
        "colab": {
          "base_uri": "https://localhost:8080/"
        },
        "id": "3VMqW6uc5AEc",
        "outputId": "fa97a09f-0908-4ddd-f464-2907271f7087"
      },
      "execution_count": null,
      "outputs": [
        {
          "output_type": "stream",
          "name": "stdout",
          "text": [
            "[0 1 2 3 4 5 6 7 8 9]\n"
          ]
        },
        {
          "output_type": "execute_result",
          "data": {
            "text/plain": [
              "array([2, 3, 4])"
            ]
          },
          "metadata": {},
          "execution_count": 33
        }
      ]
    },
    {
      "cell_type": "code",
      "source": [
        "# slicing in 2D\n",
        "print(a2)\n",
        "a2[0, :]\n",
        "a2[1,:]\n",
        "a2[:,2]"
      ],
      "metadata": {
        "colab": {
          "base_uri": "https://localhost:8080/"
        },
        "id": "0sbhPKRY5684",
        "outputId": "2022683a-f2f0-4d5d-e7e6-0b1cc68a2f72"
      },
      "execution_count": null,
      "outputs": [
        {
          "output_type": "stream",
          "name": "stdout",
          "text": [
            "[[ 0  1  2  3]\n",
            " [ 4  5  6  7]\n",
            " [ 8  9 10 11]]\n"
          ]
        },
        {
          "output_type": "execute_result",
          "data": {
            "text/plain": [
              "array([ 2,  6, 10])"
            ]
          },
          "metadata": {},
          "execution_count": 43
        }
      ]
    },
    {
      "cell_type": "code",
      "source": [
        "''' row_no and col_no '''\n",
        "a2[1:3,1:3]\n",
        "a2[::2,::3]\n",
        "a2[0::2,1::2]\n",
        "a2[:2,1:3]\n",
        "a2[1,0::3]\n",
        "a2[0:2,1:]"
      ],
      "metadata": {
        "colab": {
          "base_uri": "https://localhost:8080/"
        },
        "id": "gAuSaF4Z7Fa6",
        "outputId": "4ccf6844-c956-41c1-af68-99cdba27d5fc"
      },
      "execution_count": null,
      "outputs": [
        {
          "output_type": "execute_result",
          "data": {
            "text/plain": [
              "array([[1, 2, 3],\n",
              "       [5, 6, 7]])"
            ]
          },
          "metadata": {},
          "execution_count": 65
        }
      ]
    },
    {
      "cell_type": "code",
      "source": [
        "a3 = np.arange(27).reshape(3,3,3)\n",
        "print(a3)\n",
        "\n",
        "a3[0::2]\n",
        "a3[1,1,1]\n",
        "a3[0,1]\n",
        "a3[1,0:3,1]\n",
        "a3[2,1:3,1:3]\n",
        "a3[0::2,0,0::2]"
      ],
      "metadata": {
        "colab": {
          "base_uri": "https://localhost:8080/"
        },
        "id": "T2vo1hJk_G8e",
        "outputId": "d65c4010-6276-411d-e519-8a812ff9af45"
      },
      "execution_count": null,
      "outputs": [
        {
          "output_type": "stream",
          "name": "stdout",
          "text": [
            "[[[ 0  1  2]\n",
            "  [ 3  4  5]\n",
            "  [ 6  7  8]]\n",
            "\n",
            " [[ 9 10 11]\n",
            "  [12 13 14]\n",
            "  [15 16 17]]\n",
            "\n",
            " [[18 19 20]\n",
            "  [21 22 23]\n",
            "  [24 25 26]]]\n"
          ]
        },
        {
          "output_type": "execute_result",
          "data": {
            "text/plain": [
              "array([[ 0,  2],\n",
              "       [18, 20]])"
            ]
          },
          "metadata": {},
          "execution_count": 5
        }
      ]
    },
    {
      "cell_type": "markdown",
      "source": [
        "**Iterating**"
      ],
      "metadata": {
        "id": "GFXZg5N_7jDn"
      }
    },
    {
      "cell_type": "code",
      "source": [
        "a1\n",
        "for i in a1:\n",
        "  print(i)\n"
      ],
      "metadata": {
        "id": "pPFly-_2AAZz",
        "colab": {
          "base_uri": "https://localhost:8080/"
        },
        "outputId": "81cfc0c0-1d85-415a-fa99-d1252cdf1823"
      },
      "execution_count": null,
      "outputs": [
        {
          "output_type": "stream",
          "name": "stdout",
          "text": [
            "0\n",
            "1\n",
            "2\n",
            "3\n",
            "4\n",
            "5\n",
            "6\n",
            "7\n",
            "8\n",
            "9\n"
          ]
        },
        {
          "output_type": "execute_result",
          "data": {
            "text/plain": [
              "array([[ 0,  1,  2,  3],\n",
              "       [ 4,  5,  6,  7],\n",
              "       [ 8,  9, 10, 11]])"
            ]
          },
          "metadata": {},
          "execution_count": 8
        }
      ]
    },
    {
      "cell_type": "code",
      "source": [
        "print(a2)\n",
        "for i in a2:\n",
        "  print(i)"
      ],
      "metadata": {
        "colab": {
          "base_uri": "https://localhost:8080/"
        },
        "id": "iTXgtBes7xp0",
        "outputId": "6a690198-f193-4477-abee-5aba7c085740"
      },
      "execution_count": null,
      "outputs": [
        {
          "output_type": "stream",
          "name": "stdout",
          "text": [
            "[[ 0  1  2  3]\n",
            " [ 4  5  6  7]\n",
            " [ 8  9 10 11]]\n",
            "[0 1 2 3][4 5 6 7][ 8  9 10 11]"
          ]
        }
      ]
    },
    {
      "cell_type": "code",
      "source": [
        "print(a3)\n",
        "for i in a3:\n",
        "  print(i)"
      ],
      "metadata": {
        "colab": {
          "base_uri": "https://localhost:8080/"
        },
        "id": "m3Ob_iwn8Ktu",
        "outputId": "60cddb4a-e1be-4bee-c521-720c5775b600"
      },
      "execution_count": null,
      "outputs": [
        {
          "output_type": "stream",
          "name": "stdout",
          "text": [
            "[[[ 0  1  2]\n",
            "  [ 3  4  5]\n",
            "  [ 6  7  8]]\n",
            "\n",
            " [[ 9 10 11]\n",
            "  [12 13 14]\n",
            "  [15 16 17]]\n",
            "\n",
            " [[18 19 20]\n",
            "  [21 22 23]\n",
            "  [24 25 26]]]\n",
            "[[0 1 2]\n",
            " [3 4 5]\n",
            " [6 7 8]]\n",
            "[[ 9 10 11]\n",
            " [12 13 14]\n",
            " [15 16 17]]\n",
            "[[18 19 20]\n",
            " [21 22 23]\n",
            " [24 25 26]]\n"
          ]
        }
      ]
    },
    {
      "cell_type": "code",
      "source": [
        "for i in np.nditer(a3): # nditer use to print elements in 1D\n",
        "  print(i)"
      ],
      "metadata": {
        "colab": {
          "base_uri": "https://localhost:8080/"
        },
        "id": "RnRY9ypg8YmV",
        "outputId": "c867cc4e-0a2d-4028-bb29-4539d7a80df5"
      },
      "execution_count": null,
      "outputs": [
        {
          "output_type": "stream",
          "name": "stdout",
          "text": [
            "0\n",
            "1\n",
            "2\n",
            "3\n",
            "4\n",
            "5\n",
            "6\n",
            "7\n",
            "8\n",
            "9\n",
            "10\n",
            "11\n",
            "12\n",
            "13\n",
            "14\n",
            "15\n",
            "16\n",
            "17\n",
            "18\n",
            "19\n",
            "20\n",
            "21\n",
            "22\n",
            "23\n",
            "24\n",
            "25\n",
            "26\n"
          ]
        }
      ]
    },
    {
      "cell_type": "markdown",
      "source": [
        "**Reshaping**\n",
        "\n",
        "I reshape\n",
        "\n",
        "II Transpose\n",
        "\n",
        "III ravel"
      ],
      "metadata": {
        "id": "Ojcx3gfb9h6e"
      }
    },
    {
      "cell_type": "code",
      "source": [
        "print(a2)\n",
        "np.transpose(a2)  # ist syntax to transpose of a matrix\n",
        "a2.T  # 2nd syntax to transpose of a matrix\n",
        "a2.transpose()  # 3rd syntax to transpose of a matrix"
      ],
      "metadata": {
        "colab": {
          "base_uri": "https://localhost:8080/"
        },
        "id": "BdcVRETV84XB",
        "outputId": "16c3b8de-3cfb-42d1-f462-b75416f84793"
      },
      "execution_count": null,
      "outputs": [
        {
          "output_type": "stream",
          "name": "stdout",
          "text": [
            "[[ 0  1  2  3]\n",
            " [ 4  5  6  7]\n",
            " [ 8  9 10 11]]\n"
          ]
        },
        {
          "output_type": "execute_result",
          "data": {
            "text/plain": [
              "array([[ 0,  4,  8],\n",
              "       [ 1,  5,  9],\n",
              "       [ 2,  6, 10],\n",
              "       [ 3,  7, 11]])"
            ]
          },
          "metadata": {},
          "execution_count": 22
        }
      ]
    },
    {
      "cell_type": "code",
      "source": [
        "# Ravel is use to convert Nd array into 1D array\n",
        "print(a3)\n",
        "a3.ravel()  # syntax 1\n",
        "np.ravel(a3)  # syntax 2\n"
      ],
      "metadata": {
        "colab": {
          "base_uri": "https://localhost:8080/"
        },
        "id": "xwp1OE51-V5l",
        "outputId": "b78e3b5a-4392-4a34-9a8f-cb397a46302d"
      },
      "execution_count": null,
      "outputs": [
        {
          "output_type": "stream",
          "name": "stdout",
          "text": [
            "[[[ 0  1  2]\n",
            "  [ 3  4  5]\n",
            "  [ 6  7  8]]\n",
            "\n",
            " [[ 9 10 11]\n",
            "  [12 13 14]\n",
            "  [15 16 17]]\n",
            "\n",
            " [[18 19 20]\n",
            "  [21 22 23]\n",
            "  [24 25 26]]]\n"
          ]
        },
        {
          "output_type": "execute_result",
          "data": {
            "text/plain": [
              "array([ 0,  1,  2,  3,  4,  5,  6,  7,  8,  9, 10, 11, 12, 13, 14, 15, 16,\n",
              "       17, 18, 19, 20, 21, 22, 23, 24, 25, 26])"
            ]
          },
          "metadata": {},
          "execution_count": 25
        }
      ]
    },
    {
      "cell_type": "markdown",
      "source": [
        "**Stacking**"
      ],
      "metadata": {
        "id": "tzqN4B3uAFUX"
      }
    },
    {
      "cell_type": "code",
      "source": [
        "a4 = np.arange(12).reshape(3,4)\n",
        "a5 = np.arange(12,24).reshape(3,4)\n",
        "print(a4)\n",
        "print(a5)\n",
        "np.hstack((a4,a5))  # hstack is use to stack array horizontally\n",
        "np.vstack((a4,a5))  # vstack is use to stack array vertically"
      ],
      "metadata": {
        "colab": {
          "base_uri": "https://localhost:8080/"
        },
        "id": "ec_UYtgQAHuc",
        "outputId": "4840c8a9-2445-4870-e254-435960b26ca2"
      },
      "execution_count": null,
      "outputs": [
        {
          "output_type": "stream",
          "name": "stdout",
          "text": [
            "[[ 0  1  2  3]\n",
            " [ 4  5  6  7]\n",
            " [ 8  9 10 11]]\n",
            "[[12 13 14 15]\n",
            " [16 17 18 19]\n",
            " [20 21 22 23]]\n"
          ]
        },
        {
          "output_type": "execute_result",
          "data": {
            "text/plain": [
              "array([[ 0,  1,  2,  3],\n",
              "       [ 4,  5,  6,  7],\n",
              "       [ 8,  9, 10, 11],\n",
              "       [12, 13, 14, 15],\n",
              "       [16, 17, 18, 19],\n",
              "       [20, 21, 22, 23]])"
            ]
          },
          "metadata": {},
          "execution_count": 30
        }
      ]
    },
    {
      "cell_type": "markdown",
      "source": [
        "**Spliting**\n",
        "\n",
        "**this is opposite of stacking**"
      ],
      "metadata": {
        "id": "cPMmGlnmCGAo"
      }
    },
    {
      "cell_type": "code",
      "source": [
        "# vertical spliting\n",
        "a6 = np.arange(16).reshape(4,4)\n",
        "print(a6)\n",
        "np.vsplit(a6,2)  # vsplit is use to split array vertically\n",
        "np.hsplit(a6,2)  # hsplit is use to split array horizontally"
      ],
      "metadata": {
        "colab": {
          "base_uri": "https://localhost:8080/"
        },
        "id": "uedktKzsB5SX",
        "outputId": "479a612b-3293-48c7-b30d-eface5048cd3"
      },
      "execution_count": null,
      "outputs": [
        {
          "output_type": "stream",
          "name": "stdout",
          "text": [
            "[[ 0  1  2  3]\n",
            " [ 4  5  6  7]\n",
            " [ 8  9 10 11]\n",
            " [12 13 14 15]]\n"
          ]
        },
        {
          "output_type": "execute_result",
          "data": {
            "text/plain": [
              "[array([[ 0,  1],\n",
              "        [ 4,  5],\n",
              "        [ 8,  9],\n",
              "        [12, 13]]),\n",
              " array([[ 2,  3],\n",
              "        [ 6,  7],\n",
              "        [10, 11],\n",
              "        [14, 15]])]"
            ]
          },
          "metadata": {},
          "execution_count": 35
        }
      ]
    },
    {
      "cell_type": "code",
      "source": [
        "# speed\n",
        "# list\n",
        "a = [x for x in range(10000000)]\n",
        "b = [x for x in range(10000000,20000000)]\n",
        "\n",
        "c = []\n",
        "import time\n",
        "t1 = time.time()\n",
        "for i in range(len(a)):\n",
        "  c.append(a[i]+b[i])\n",
        "print(time.time()-t1)\n",
        "\n"
      ],
      "metadata": {
        "colab": {
          "base_uri": "https://localhost:8080/"
        },
        "id": "iq_38nv2Uio7",
        "outputId": "61fb0f3c-388b-4024-8cd4-ba4b225e1d35"
      },
      "execution_count": null,
      "outputs": [
        {
          "output_type": "stream",
          "name": "stdout",
          "text": [
            "3.4468820095062256\n"
          ]
        }
      ]
    },
    {
      "cell_type": "code",
      "source": [
        "import numpy as np\n",
        "a = np.arange(10000000)\n",
        "b = np.arange(10000000,20000000)\n",
        "t1 = time.time()\n",
        "c = a+b\n",
        "print(time.time()-t1)"
      ],
      "metadata": {
        "id": "MAjwXjFsWoyC",
        "colab": {
          "base_uri": "https://localhost:8080/"
        },
        "outputId": "9c332fee-a366-4631-8849-a0fa7f41b674"
      },
      "execution_count": null,
      "outputs": [
        {
          "output_type": "stream",
          "name": "stdout",
          "text": [
            "0.03956484794616699\n"
          ]
        }
      ]
    },
    {
      "cell_type": "code",
      "source": [
        "2.585771322250366/0.0353701114654541  # numpy 73 times faster than python list"
      ],
      "metadata": {
        "colab": {
          "base_uri": "https://localhost:8080/"
        },
        "id": "gRZyw8wSHWH7",
        "outputId": "c271a0e6-0159-428c-89cb-90cc11adfa7b"
      },
      "execution_count": null,
      "outputs": [
        {
          "output_type": "execute_result",
          "data": {
            "text/plain": [
              "73.50427350427351"
            ]
          },
          "metadata": {},
          "execution_count": 14
        }
      ]
    },
    {
      "cell_type": "code",
      "source": [
        "# memory\n",
        "import sys\n",
        "a = [x for x in range(10000000)]\n",
        "print(sys.getsizeof(a))\n",
        "\n",
        "a1 = np.arange(10000000,dtype = np.int8)\n",
        "sys.getsizeof(a1)"
      ],
      "metadata": {
        "colab": {
          "base_uri": "https://localhost:8080/"
        },
        "id": "B-PRvzAIH5QH",
        "outputId": "d854759e-6d76-4362-f6a6-3f6e78daaeb1"
      },
      "execution_count": null,
      "outputs": [
        {
          "output_type": "stream",
          "name": "stdout",
          "text": [
            "89095160\n"
          ]
        },
        {
          "output_type": "execute_result",
          "data": {
            "text/plain": [
              "10000112"
            ]
          },
          "metadata": {},
          "execution_count": 6
        }
      ]
    },
    {
      "cell_type": "markdown",
      "source": [
        "**Advanced Indexing**"
      ],
      "metadata": {
        "id": "0scVBrduJkrf"
      }
    },
    {
      "cell_type": "code",
      "source": [
        "a = np.arange(24).reshape(6,4)\n",
        "print(a)\n",
        "a[0,0:4]"
      ],
      "metadata": {
        "colab": {
          "base_uri": "https://localhost:8080/"
        },
        "id": "mcjTKIC0Jo12",
        "outputId": "cb73c1b6-eb03-43e3-a1ba-7f0505c31a7d"
      },
      "execution_count": null,
      "outputs": [
        {
          "output_type": "stream",
          "name": "stdout",
          "text": [
            "[[ 0  1  2  3]\n",
            " [ 4  5  6  7]\n",
            " [ 8  9 10 11]\n",
            " [12 13 14 15]\n",
            " [16 17 18 19]\n",
            " [20 21 22 23]]\n"
          ]
        },
        {
          "output_type": "execute_result",
          "data": {
            "text/plain": [
              "array([0, 1, 2, 3])"
            ]
          },
          "metadata": {},
          "execution_count": 34
        }
      ]
    },
    {
      "cell_type": "markdown",
      "source": [
        "**Fancy Indexing**"
      ],
      "metadata": {
        "id": "MTuqnpN7LKOA"
      }
    },
    {
      "cell_type": "code",
      "source": [
        "a = np.arange(24).reshape(6,4)\n",
        "print(a)\n",
        "a[[0,2,3,5]]\n",
        "a[:,[0,2,3]]"
      ],
      "metadata": {
        "colab": {
          "base_uri": "https://localhost:8080/"
        },
        "id": "QZlbBQ2kLIPM",
        "outputId": "71c9eb32-1b19-47fa-914d-4d2f675cf0ce"
      },
      "execution_count": null,
      "outputs": [
        {
          "output_type": "stream",
          "name": "stdout",
          "text": [
            "[[ 0  1  2  3]\n",
            " [ 4  5  6  7]\n",
            " [ 8  9 10 11]\n",
            " [12 13 14 15]\n",
            " [16 17 18 19]\n",
            " [20 21 22 23]]\n"
          ]
        },
        {
          "output_type": "execute_result",
          "data": {
            "text/plain": [
              "array([[ 0,  2,  3],\n",
              "       [ 4,  6,  7],\n",
              "       [ 8, 10, 11],\n",
              "       [12, 14, 15],\n",
              "       [16, 18, 19],\n",
              "       [20, 22, 23]])"
            ]
          },
          "metadata": {},
          "execution_count": 41
        }
      ]
    },
    {
      "cell_type": "markdown",
      "source": [
        "**Boolean Indexing**"
      ],
      "metadata": {
        "id": "HFHruql1NA5D"
      }
    },
    {
      "cell_type": "code",
      "source": [
        "a = np.random.randint(1,100,24).reshape(6,4) # randint is use to generate random integer bw given range\n",
        "print(a[a>50])  # is use to filter data\n",
        "print(a[a%2==0])\n",
        "print(a[(a>50) & (a%2==0)])\n",
        "print(a[a%7!=0])  # another way to write not   [~(a%2==0)]\n"
      ],
      "metadata": {
        "colab": {
          "base_uri": "https://localhost:8080/"
        },
        "id": "3k_dJDHWNIOg",
        "outputId": "042f16bd-bdaa-4d89-f0f4-99c7773e3371"
      },
      "execution_count": null,
      "outputs": [
        {
          "output_type": "stream",
          "name": "stdout",
          "text": [
            "[57 96 51 83 85 91 96 78 56 81 85]\n",
            "[96 10 96 78 32 34 10 48 56 22]\n",
            "[96 96 78 56]\n",
            "[37 57 96 51 17 43 10 83 43 85 27 31 96 78 32 34 10 48 81 85 22]\n"
          ]
        }
      ]
    },
    {
      "cell_type": "markdown",
      "source": [
        "**Broadcasting**\n",
        "\n",
        ". The term broadcasting describe how NumPy treats arrays with different shapes during arithmetic operations\n",
        "\n",
        ". The smaller array is \"broadcast\" across the larger array so that they have compatible shapes"
      ],
      "metadata": {
        "id": "pnr-TZ1HROlw"
      }
    },
    {
      "cell_type": "code",
      "source": [
        "a = np.arange(6).reshape(2,3)\n",
        "b = np.arange(3).reshape(1,3)\n",
        "print(a)\n",
        "print(b)\n",
        "print(a+b) # can possible with differnt row col value\n"
      ],
      "metadata": {
        "colab": {
          "base_uri": "https://localhost:8080/"
        },
        "id": "nkTx1Y27OYWQ",
        "outputId": "f65cdf5d-4c07-4f54-a0e8-20a1cc5e5290"
      },
      "execution_count": null,
      "outputs": [
        {
          "output_type": "stream",
          "name": "stdout",
          "text": [
            "[[0 1 2]\n",
            " [3 4 5]]\n",
            "[[0 1 2]]\n",
            "[[0 2 4]\n",
            " [3 5 7]]\n"
          ]
        }
      ]
    },
    {
      "cell_type": "markdown",
      "source": [
        "![image.png](data:image/png;base64,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)\n",
        "\n",
        "\n",
        "\n",
        "\n",
        "\n",
        "\n",
        "\n",
        "\n",
        "\n",
        "\n",
        "![image.png](data:image/png;base64,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)"
      ],
      "metadata": {
        "id": "50FttqfQdjc1"
      }
    },
    {
      "cell_type": "code",
      "source": [
        "a = np.arange(12).reshape(4,3)\n",
        "b = np.arange(3).reshape(1,3)\n",
        "print(a)\n",
        "print(b)\n",
        "a.shape\n",
        "b.shape\n",
        "print(a+b)"
      ],
      "metadata": {
        "colab": {
          "base_uri": "https://localhost:8080/"
        },
        "id": "c9DlltDwdEki",
        "outputId": "670a0b1c-9ab2-453e-d68c-2086a9b46dcb"
      },
      "execution_count": null,
      "outputs": [
        {
          "output_type": "stream",
          "name": "stdout",
          "text": [
            "[[ 0  1  2]\n",
            " [ 3  4  5]\n",
            " [ 6  7  8]\n",
            " [ 9 10 11]]\n",
            "[[0 1 2]]\n",
            "[[ 0  2  4]\n",
            " [ 3  5  7]\n",
            " [ 6  8 10]\n",
            " [ 9 11 13]]\n"
          ]
        }
      ]
    },
    {
      "cell_type": "code",
      "source": [
        "a = np.arange(12).reshape(3,4)\n",
        "b = np.arange(3)\n",
        "print(a)\n",
        "print(b)\n",
        "print(a+b)\n",
        "#  Here broadcast is not possible when we stretched this 1D it will go upto (3,3) so a is not qual to b"
      ],
      "metadata": {
        "colab": {
          "base_uri": "https://localhost:8080/"
        },
        "id": "R2F5bl-HhpIj",
        "outputId": "0064030b-62dd-477d-d85e-5c7cb9f46dac"
      },
      "execution_count": null,
      "outputs": [
        {
          "output_type": "stream",
          "name": "stdout",
          "text": [
            "[[ 0  1  2  3]\n",
            " [ 4  5  6  7]\n",
            " [ 8  9 10 11]]\n",
            "[0 1 2]\n"
          ]
        }
      ]
    },
    {
      "cell_type": "code",
      "source": [
        "a = np.arange(3).reshape(1,3)\n",
        "b = np.arange(3).reshape(3,1)\n",
        "print(a+b)  # Broadcasting is possible each 1 stretched till to 3"
      ],
      "metadata": {
        "colab": {
          "base_uri": "https://localhost:8080/"
        },
        "id": "2m09zZxBibMF",
        "outputId": "536997cb-ed04-4aa1-ba5a-bd0a1fc5502c"
      },
      "execution_count": null,
      "outputs": [
        {
          "output_type": "stream",
          "name": "stdout",
          "text": [
            "[[0 1 2]\n",
            " [1 2 3]\n",
            " [2 3 4]]\n"
          ]
        }
      ]
    },
    {
      "cell_type": "code",
      "source": [
        "a = np.arange(3).reshape(1,3)\n",
        "b = np.arange(4).reshape(4,1)\n",
        "print(a)\n",
        "print(b)\n",
        "print(a+b)"
      ],
      "metadata": {
        "colab": {
          "base_uri": "https://localhost:8080/"
        },
        "id": "jjBVMa16jJoD",
        "outputId": "3b99a498-2020-409b-ca4b-7a3986a458db"
      },
      "execution_count": null,
      "outputs": [
        {
          "output_type": "stream",
          "name": "stdout",
          "text": [
            "[[0 1 2]]\n",
            "[[0]\n",
            " [1]\n",
            " [2]\n",
            " [3]]\n",
            "[[0 1 2]\n",
            " [1 2 3]\n",
            " [2 3 4]\n",
            " [3 4 5]]\n"
          ]
        }
      ]
    },
    {
      "cell_type": "code",
      "source": [
        "# Broadcasting possible\n",
        "a = np.array([1])\n",
        "b = np.arange(4).reshape(2,2)\n",
        "print(a)\n",
        "print(b)\n",
        "print(a+b)"
      ],
      "metadata": {
        "colab": {
          "base_uri": "https://localhost:8080/"
        },
        "id": "QhuVRw8FjyZy",
        "outputId": "fdb86805-5b97-4b7a-9025-40b184fcedcc"
      },
      "execution_count": null,
      "outputs": [
        {
          "output_type": "stream",
          "name": "stdout",
          "text": [
            "[1]\n",
            "[[0 1]\n",
            " [2 3]]\n",
            "[[1 2]\n",
            " [3 4]]\n"
          ]
        }
      ]
    },
    {
      "cell_type": "code",
      "source": [
        "a = np.arange(12).reshape(3,4)\n",
        "b = np.arange(12).reshape(4,3)\n",
        "print(a)\n",
        "print(b)\n",
        "print(a+b) # can't be possible"
      ],
      "metadata": {
        "colab": {
          "base_uri": "https://localhost:8080/",
          "height": 297
        },
        "collapsed": true,
        "id": "al5SaWkzkWbl",
        "outputId": "31442ab4-b9a5-4b8f-8e87-71bfcc1b6148"
      },
      "execution_count": null,
      "outputs": [
        {
          "output_type": "stream",
          "name": "stdout",
          "text": [
            "[[ 0  1  2  3]\n",
            " [ 4  5  6  7]\n",
            " [ 8  9 10 11]]\n",
            "[[ 0  1  2]\n",
            " [ 3  4  5]\n",
            " [ 6  7  8]\n",
            " [ 9 10 11]]\n"
          ]
        },
        {
          "output_type": "error",
          "ename": "ValueError",
          "evalue": "operands could not be broadcast together with shapes (3,4) (4,3) ",
          "traceback": [
            "\u001b[0;31m---------------------------------------------------------------------------\u001b[0m",
            "\u001b[0;31mValueError\u001b[0m                                Traceback (most recent call last)",
            "\u001b[0;32m<ipython-input-46-7bb0294ae3e2>\u001b[0m in \u001b[0;36m<cell line: 5>\u001b[0;34m()\u001b[0m\n\u001b[1;32m      3\u001b[0m \u001b[0mprint\u001b[0m\u001b[0;34m(\u001b[0m\u001b[0ma\u001b[0m\u001b[0;34m)\u001b[0m\u001b[0;34m\u001b[0m\u001b[0;34m\u001b[0m\u001b[0m\n\u001b[1;32m      4\u001b[0m \u001b[0mprint\u001b[0m\u001b[0;34m(\u001b[0m\u001b[0mb\u001b[0m\u001b[0;34m)\u001b[0m\u001b[0;34m\u001b[0m\u001b[0;34m\u001b[0m\u001b[0m\n\u001b[0;32m----> 5\u001b[0;31m \u001b[0mprint\u001b[0m\u001b[0;34m(\u001b[0m\u001b[0ma\u001b[0m\u001b[0;34m+\u001b[0m\u001b[0mb\u001b[0m\u001b[0;34m)\u001b[0m \u001b[0;31m# can't be possible\u001b[0m\u001b[0;34m\u001b[0m\u001b[0;34m\u001b[0m\u001b[0m\n\u001b[0m",
            "\u001b[0;31mValueError\u001b[0m: operands could not be broadcast together with shapes (3,4) (4,3) "
          ]
        }
      ]
    },
    {
      "cell_type": "code",
      "source": [
        "a = np.arange(16).reshape(4,4)\n",
        "b = np.arange(4).reshape(2,2)\n",
        "print(a)\n",
        "print(b)\n",
        "print(a+b) # Broadcasting can't be possible"
      ],
      "metadata": {
        "id": "v-PEp4polSj2"
      },
      "execution_count": null,
      "outputs": []
    },
    {
      "cell_type": "markdown",
      "source": [
        "# **Working with mathematical formulas**"
      ],
      "metadata": {
        "id": "hHLTrOjtnmgw"
      }
    },
    {
      "cell_type": "code",
      "source": [
        "a = np.arange(16).reshape(4,4)\n",
        "print(a)\n",
        "np.sum(a)\n",
        "np.sin(a)"
      ],
      "metadata": {
        "colab": {
          "base_uri": "https://localhost:8080/"
        },
        "id": "f6BZTd9RmA2M",
        "outputId": "47fe3eb7-b387-4333-901f-8b4d528a1db4"
      },
      "execution_count": null,
      "outputs": [
        {
          "output_type": "stream",
          "name": "stdout",
          "text": [
            "[[ 0  1  2  3]\n",
            " [ 4  5  6  7]\n",
            " [ 8  9 10 11]\n",
            " [12 13 14 15]]\n"
          ]
        },
        {
          "output_type": "execute_result",
          "data": {
            "text/plain": [
              "array([[ 0.        ,  0.84147098,  0.90929743,  0.14112001],\n",
              "       [-0.7568025 , -0.95892427, -0.2794155 ,  0.6569866 ],\n",
              "       [ 0.98935825,  0.41211849, -0.54402111, -0.99999021],\n",
              "       [-0.53657292,  0.42016704,  0.99060736,  0.65028784]])"
            ]
          },
          "metadata": {},
          "execution_count": 59
        }
      ]
    },
    {
      "cell_type": "markdown",
      "source": [
        "**Sigmoid funtion formula**\n",
        "\n",
        "\n",
        "![image.png](data:image/png;base64,iVBORw0KGgoAAAANSUhEUgAAAOkAAABKCAYAAABev3OjAAANzklEQVR4Ae2ddcw1RxXGHyhSrLgUaHEo7l5KQnAIpYQ/ILgHtyINXiBAS3CChOBeilNcW6y4uzvFrViB/YVzkulmd+/c3Zm9d+93JtnsfXfH9nn32Zk5NlKkQCAQCAQCgUCgMALnKlxfVBcIBAKFEDi1pCdIOk5SELUQqFFNIDAWgVNKOp2ks0m6qKSDJR0j6b92XGpsxVEuEAgEyiBwG0lHSfq4pJ8l5AySlsE3agkEJiPwWCPmiZKOlfRsSX9PyBoj6WSIo4JAYBoCp5d0QUn7SjqDpEsESacBGqUDgdoIBElrIxz1BwITEQiSTgQwigcCtREIktZGOOoPBCYiECSdCGAUDwRqIxAkrY1w1B8ITEQAkqKOcT3pARPri+KBQCBQGIEYSQsDGtUFAqURaJP00qUbiPoCgUBgGgJtkl5mWnVROhAIBEoj0CbpZUs3EPUFAoHANATaJL3ctOqidCAQCJRGIEhaGtGoLxAojECbpFcoXH9UFwgEAhMRaJP0ihPri+KZCOCOdOHMvGOz7S/pLGMLR7mtQaBN0ittTc92uCPEq3mHpM9Kgkg10n6SPiPpE5LOXKOBqLMaAnzAmdIixUVIdJikfyUWR4+SdIcm3tH1JV1eEvkjSbqAAfOCxiH35Y0T7iMl3VjSPgk6APqU5jhtcq39k/wQ9ARJB7ZvFv77utbOpyWdqXDdUV09BG6VENJNAYfOt6vXlWXUfHYj5W97gPuIJEYtvnrflfROSafpebS97T6A37snT+nLD5R0UvPFfUvpiqO+aggwOr5W0ostdMpTm3fvcZIeamf+JqTKi5qoDa+TdNVqPVlAxYROfK+R808G2m1tinEXi+AGAT4nidEK8jGS9qXDLc/bJUHYOdJekl5j7T59jgajjUBgLgRYx7Geg3jHS7pGT8PEQk2nItfryUfwqF9L+pukq/fkqXUZW0+m1/+UdO1ajUS9gcCcCDD6sO6EfL+xRXxf+5AZAQ15f2RT3668Ppq9qetm5WunSkbTN1duK6oPBGZBgNHQQyjmTBFfYiR9nwU1bnfyypL+anlu2r45098807+tH6Fnmwn0aKYOAow6rzJCMTrePKOZJ1r+PkIjAKCuL25QHYJU2Uf8V2Q8U2QJBLYWgXNI+nxC0pw1HOSEhDfpeKrzSPqq3WcKvcmExJB+fjP2E9nkvyHanooA+tDvJyR9ZkaFiMdRxZy1I++1TAUCOe7ecX/VJdbHfDj6pMHcY/TPSfe350IifbWcApEnENhGBDCjg3CQioMX+vWmi2JUPEVHpyFJF0HJeqjVg2T1kh1l+y4RuZyyR9ueIK82YwrPzzQcIRD7hbAmvpDfGDhjxcK6lOd6+EC+uBUIbDUCkPBlCUmdrAiSPinphZIOsdD/OQ/iU0wkv+fPKWBWTBgf/FnShxq1yftNffKfpvzjJT2gMRX7hxlGcA+1Dhv7rPIzPGfT9y/Zs4VxQ+Y/I7JtJwK87D/pIKoTljMEYo3ZNbL6UyGs+bDVA8H7RlvPz5mR/D1mIMFoiYqHKe9jrB5GZEbDI8xmE+OJ39m9R6cVdfymP26cwQg81vj+fJKwZCp9RMSBjn9aXOpH4CBJfaaAKVnfJon9JLvSuSV93QgE8frMBdOyT+qx64Ww3u63G+un89rI6aod7jHKDiXWtfSXvAiz6N+6iY+S63y9P6XO2DSzL2ekQCAbAWxy79cYM7y1JUxKX0qmoOwn2ZUQQvn+kryAjIhDCZekXzaeMS/tyORrW9rGXpOEFZTrc38qadWWeHxM3mgk/fEEDxzIjrtUzoEdKnpZDtbEfnDdD2YuHGyaGykQGIUAIyCEvVGzFd2RkhjJUqK+oadWdmn+g+XNsTS6gaSvNRvIdoVs9LUt7d4raQ/jiOc0ut2LJNeGfr7S+vPHZkS82FDGhd3jA3TLOBaNQY66c9DFLH1nCamY6lIR3pwxzWC/U2ddhFE5qWudiJoFI34IyvR21Yg51A7eE9TDDGCXQkMyuqcfzvi9PDw+OPTicg/JK2qOXOEFVjv+IqCyQSjTToxuLtRBjTM2MUVEFUR7GP3nCKD62nITRuraJZLiSM9sJY7lYsAO54MJJ25e3FxH7AcnJGUq2pUgvhtGoNPsEzB1lU2vpW3ljshpef+N0MfXpKhwLu43Rpxx40PwVPLINcoY0d0osnQE+AofZbpI1pE5ye1xIfYdewqkeskhZ/C0ONM2preeIDaCK9rhwI+1nZgi5xCOtTX9oB4EVGz5vm6C6BhCYIf8hcIHa+tVwrV1+xv5dwQB1BluX9vnN5o+KmoCPF542YnG0KfKQMeJPpJ8H80IYUKsGrztj23UMPe1BrFy+pbVgdFCe4pKGXSxTLkZ3YYS62bm/fQHo4ZV+fvqwvEdYRlT+JLHw/oajOuBwDUTc7lVBgGgdefE9QyFfl9iVGCEhhQQbd++jKZDTde5EBWVxA2tPHUg+W1/EIhjhHFDTr8ZcTGqoK4+t7qBLp7sFlPT0sfJGog/AoEUAaZvvLgcv+rxZvH8t07Wme/OMG73utFnDqk8IDDTR+8HulJIgCDErxGihdHZE1Jepp1ImnNMDpnKox+lPqbrkQKBRSAAEZiy8eK6dRCGAZjd4cGCfhQCEezpyWYOSN6PrYgK6A9PqBSXzGLz25eYtvrak1EUXSk6WcpC1L+YzpXIcKh27mlTdMwTc4Vd6FSd8Hft60hcDwS2DQEIyPqM0QhPEiKy/T55mYlL9I0k7in3npsxgvpzMj2lPOR4hl/sOWOBQ3voMDE2IPiZBzZDYISRvpOMMyNrlgLY2nualecZcgRNPd2My4HAvAggNELwklrsMIphPI+RwqeMwAiAGNnWNSRAOosZH6TCfncoJi9PDlERGmFVRD9SA34i3t/MRlHWol262T70aNclu+8a8E/tK79L1zHXRK2VY0u9S8+96GcZetmR5GI8gGpkbIJQeK9gsH/A2EomlsNIg6BqfCz2xGDKCPGQlOOogEQeHLrMLyfCHMWXigB62GPsxXjEhh7CzQFZ706xWNpQ90c1y6zkIY1EnF0HUD0RNsblA5B03VnRqE5YobGGLFPa3ERZlnfYuKPK9MGPgY7QQljObTUOTFPZzwM1ypAqpgaw7DfzPWsfI/Q9JbkPLoTkQA3GjMb/noukjN5Mr9Olyy7+D/CKwusLDQKOJSwjEXIikOVAxuIeXFv5/EiR3W4Wn9E5E8IwXkx8SVetiefsV+22iOP0INNrYwTC1x2DkLlJinSeUXzuj3NtfNP6kekwALF9Cvr46xjOaCWeZZoSAimg088J9ZPWPetvOv8Bk9zyEHMkpL8/NPe6Ta2H53jOnDaQaKckbVtv5dQxJg8GLbtMUtSHWKAxGHhiBHUtBWpM1yyg6Wgb5HiZrTnzxcEEkaP2lxUDh+Nt6oGv6p6eNkFSprjbPJJiJ46Ry7oHG5l54jeyjvTanWwkRUNCUD3exefNsCev92nymbXQD0zFU0sNwLSW6e0v1jB2mPxgW17BpkiKB9QmRlIIiDyCmFRdW18i0EHnP8ZRAv09AlFP7ff4+UZSdoDztLg1OZJH4uCyVq2RUDkQ+mUdY4ca/dimOjdFUkZSpnm1Z05gDXHY1gTDGUY31oT4NPP79h3/DFSL2IivewypJPkg+GZn2J5HCgSyEdgESVE5EDt5jpEUmQPhcdCHY7nGTIpd/9g2hZkbPsRdro7ZAA5kZBnn+6Tym7awg08/TBjjIOneajXMwDPGrRkQaJN0DkHaXCQluqUHGDjOIoy4by59wNYbqTZ747anplOhR4qOqSnEhIhYy9EWuml3CKEvRJlcGX1hamei/LIRaJN0DunuHCQlEiNO/BADGYSPaOl/C2cR1B+YppZOuEl622DMR4K/MT9lOcdaFJdOVDQ53lql+xf1LQiBNklXRfwv8Wi1SYrjvjvyQ4yu6SzrR/ewwqiidEL/jPEC/tAYMLAGx2PMdaRIeDFyyAmoULpvUd/CEGiTFOHdlHSwKe9R4A8djCx4MBF5Yigf95iWrpMQDkJOju+Y6R3GAjyrm0U6QSEQ6pAaCQLigHK3JAQOe+Ky4RmmmUiZIwUCKxEoSVL8hD2mspOk1DnXdBMjAgIPeLs4cOB2yQcBV0eMCbiHTp79g4YksivBiwyBwBwItEmKwfeUBJnuk3GkI+mq/F3T1b4+Ekgu9TGGsEw5CeiG3TJ18TFxQ/e+euJ6ILA1CLRJikF47VRzTYp0Gomqj6RMLyMFAotGoE1SlP61U02SIp1GYgtJ8TBB/REpEFg0Am2SXmWGp6lJUsz93IEdJwqijAwl9KNzPPNQH+JeIDCIQJukXfrEwQpG3KxJ0jSOMuqOocDumOqxjQoGD1vtKjYC4yiyYARQoiM0weoFN0EsY3yrSKaI2JXiucE98kCo0qkmSekrKg9fkx7W0XlseYmUQPB0NvtaRzDVUV1cCgTKIkCoU9QPviXGz5MXmhf7RPMA4f5XLMhb2R78n/g1bXf5EPl2lidYBAgEYrcwgwIC6J0k6cvNs6LXjRQIbBUCSDt5OQnX6u5YTlg/+3X0izVe4tojqQNOEPb2vrl8iDDsPzxjver1xDkQmBUBjLoRrhAJgM2zOPCxZIrL2a9xH6FL6h9ZqqNzkZT+EgEBifU9krCvsXt6qf9k1LOzCEDSTTl97yyo8WCBQGkE2N7j0EqCqdJ9jfoCgT0WgcWFDtmG/9T/AK4dbbFHjdxBAAAAAElFTkSuQmCC)\n",
        "\n",
        "\n",
        "**Sigmoid funtion **\n",
        "\n",
        "\n",
        "\n",
        "![image.png](data:image/png;base64,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)"
      ],
      "metadata": {
        "id": "PBCQRAoupqTp"
      }
    },
    {
      "cell_type": "code",
      "source": [
        "def sigmoid(array):\n",
        "  return 1/(1+np.exp(-array))\n",
        "\n",
        "a = np.arange(100)\n",
        "print(a)\n",
        "sigmoid(a)"
      ],
      "metadata": {
        "colab": {
          "base_uri": "https://localhost:8080/"
        },
        "id": "XOjdrs_Io3Zm",
        "outputId": "1049992d-120e-4848-baf7-09eaac1c2157"
      },
      "execution_count": null,
      "outputs": [
        {
          "output_type": "stream",
          "name": "stdout",
          "text": [
            "[ 0  1  2  3  4  5  6  7  8  9 10 11 12 13 14 15 16 17 18 19 20 21 22 23\n",
            " 24 25 26 27 28 29 30 31 32 33 34 35 36 37 38 39 40 41 42 43 44 45 46 47\n",
            " 48 49 50 51 52 53 54 55 56 57 58 59 60 61 62 63 64 65 66 67 68 69 70 71\n",
            " 72 73 74 75 76 77 78 79 80 81 82 83 84 85 86 87 88 89 90 91 92 93 94 95\n",
            " 96 97 98 99]\n"
          ]
        },
        {
          "output_type": "execute_result",
          "data": {
            "text/plain": [
              "array([0.5       , 0.73105858, 0.88079708, 0.95257413, 0.98201379,\n",
              "       0.99330715, 0.99752738, 0.99908895, 0.99966465, 0.99987661,\n",
              "       0.9999546 , 0.9999833 , 0.99999386, 0.99999774, 0.99999917,\n",
              "       0.99999969, 0.99999989, 0.99999996, 0.99999998, 0.99999999,\n",
              "       1.        , 1.        , 1.        , 1.        , 1.        ,\n",
              "       1.        , 1.        , 1.        , 1.        , 1.        ,\n",
              "       1.        , 1.        , 1.        , 1.        , 1.        ,\n",
              "       1.        , 1.        , 1.        , 1.        , 1.        ,\n",
              "       1.        , 1.        , 1.        , 1.        , 1.        ,\n",
              "       1.        , 1.        , 1.        , 1.        , 1.        ,\n",
              "       1.        , 1.        , 1.        , 1.        , 1.        ,\n",
              "       1.        , 1.        , 1.        , 1.        , 1.        ,\n",
              "       1.        , 1.        , 1.        , 1.        , 1.        ,\n",
              "       1.        , 1.        , 1.        , 1.        , 1.        ,\n",
              "       1.        , 1.        , 1.        , 1.        , 1.        ,\n",
              "       1.        , 1.        , 1.        , 1.        , 1.        ,\n",
              "       1.        , 1.        , 1.        , 1.        , 1.        ,\n",
              "       1.        , 1.        , 1.        , 1.        , 1.        ,\n",
              "       1.        , 1.        , 1.        , 1.        , 1.        ,\n",
              "       1.        , 1.        , 1.        , 1.        , 1.        ])"
            ]
          },
          "metadata": {},
          "execution_count": 68
        }
      ]
    },
    {
      "cell_type": "code",
      "source": [
        "# mean squared error\n",
        "actual = np.random.randint(1,50,25)\n",
        "predicted = np.random.randint(1,50,25)\n",
        "\n",
        "print(actual)\n",
        "print(predicted)\n",
        "\n",
        "def MSE(actual,predicted):\n",
        "  return np.mean((actual-predicted)**2)\n",
        "\n",
        "\n",
        "print(f\" Mean squared error is {MSE(actual,predicted)}\")\n"
      ],
      "metadata": {
        "colab": {
          "base_uri": "https://localhost:8080/"
        },
        "id": "PPc_1_jgq8zU",
        "outputId": "97896279-872f-4d69-bcec-1ba683f30aa3"
      },
      "execution_count": null,
      "outputs": [
        {
          "output_type": "stream",
          "name": "stdout",
          "text": [
            "[13 10 49 10  7 37 35 19  4 41 37  6 47  6  7 40 37  8 23  7 16  1 43  9\n",
            " 17]\n",
            "[14 16 13  3 34 24 10  8 48  9 41  6  9 49 34 21 17  9 47 43  1 34 43 11\n",
            " 31]\n",
            " Mean squared error is 566.88\n"
          ]
        }
      ]
    },
    {
      "cell_type": "markdown",
      "source": [
        "![image.png](data:image/png;base64,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)\n",
        "\n",
        "\n",
        "The clip() is a numpy method that is used to limit the values in an array. Say you have a numpy array x = [1,2,4,6,5,6,9] and you want to limit the values in that array between 1 and 5. Then you would usex.clip(1,5) that will give an output [1,2,4,5,5,5,5]. The values greater than 5 are clipped down to 5."
      ],
      "metadata": {
        "id": "jT4mNH3Wu5RC"
      }
    },
    {
      "cell_type": "code",
      "source": [
        "# Binary cross entropy\n",
        "\n",
        "actual = np.random.randint(1,50,25)\n",
        "predicted = np.random.randint(1,50,25)\n",
        "\n",
        "def logloss(actual, predicted, eps=1e-15):\n",
        "    predicted = np.clip(predicted, eps, 1 - eps)\n",
        "    loss = -1 * np.mean(actual * np.log(predicted) + (1 - actual) * np.log(1 - predicted))\n",
        "    return loss\n",
        "\n",
        "\n",
        "print(logloss(actual, predicted))\n",
        "#  1e-15 = 1*10**(-15)"
      ],
      "metadata": {
        "colab": {
          "base_uri": "https://localhost:8080/"
        },
        "id": "COQijp3wuoW6",
        "outputId": "68468702-51c7-4afc-9581-71402a9ce660"
      },
      "execution_count": null,
      "outputs": [
        {
          "output_type": "stream",
          "name": "stdout",
          "text": [
            "-856.5814846100537\n"
          ]
        }
      ]
    },
    {
      "cell_type": "markdown",
      "source": [
        "**Missing values**"
      ],
      "metadata": {
        "id": "p2C8QA-cyfSC"
      }
    },
    {
      "cell_type": "code",
      "source": [
        "\n",
        "a = np.array([1,2,3,4,5,np.nan,7,np.nan,np.nan,10])\n",
        "print(a)\n",
        "np.isnan(a)\n",
        "a[~np.isnan(a)]  # ~ is used to get the opposite true will be false , false will be true"
      ],
      "metadata": {
        "colab": {
          "base_uri": "https://localhost:8080/"
        },
        "id": "YpoC8IeLwSgg",
        "outputId": "7826f8e0-fe0a-41e3-b01d-017917075c96"
      },
      "execution_count": null,
      "outputs": [
        {
          "output_type": "stream",
          "name": "stdout",
          "text": [
            "[ 1.  2.  3.  4.  5. nan  7. nan nan 10.]\n"
          ]
        },
        {
          "output_type": "execute_result",
          "data": {
            "text/plain": [
              "array([ 1.,  2.,  3.,  4.,  5.,  7., 10.])"
            ]
          },
          "metadata": {},
          "execution_count": 106
        }
      ]
    },
    {
      "cell_type": "markdown",
      "source": [
        "**Plotting graphs**"
      ],
      "metadata": {
        "id": "kphpYMfU088m"
      }
    },
    {
      "cell_type": "code",
      "source": [
        "x = np.linspace(-10,10,100)\n",
        "x\n",
        "y = x\n",
        "y\n",
        "import matplotlib.pyplot as plt\n",
        "\n",
        "plt.plot(x,y)\n"
      ],
      "metadata": {
        "colab": {
          "base_uri": "https://localhost:8080/",
          "height": 447
        },
        "id": "5wKUaCG81A5B",
        "outputId": "1dc2eb17-6cdd-483c-d523-6db51d1df929"
      },
      "execution_count": null,
      "outputs": [
        {
          "output_type": "execute_result",
          "data": {
            "text/plain": [
              "[<matplotlib.lines.Line2D at 0x7973ef0878e0>]"
            ]
          },
          "metadata": {},
          "execution_count": 113
        },
        {
          "output_type": "display_data",
          "data": {
            "text/plain": [
              "<Figure size 640x480 with 1 Axes>"
            ],
            "image/png": "[encoded data removed]"
          },
          "metadata": {}
        }
      ]
    },
    {
      "cell_type": "code",
      "source": [
        "x = np.linspace(-10,10,100)\n",
        "x\n",
        "y = x**2\n",
        "y\n",
        "import matplotlib.pyplot as plt\n",
        "\n",
        "plt.plot(x,y)\n"
      ],
      "metadata": {
        "colab": {
          "base_uri": "https://localhost:8080/",
          "height": 447
        },
        "id": "ramirugY2UVD",
        "outputId": "8a5211fe-26ca-4c7d-8d8f-3e31e6cf3444"
      },
      "execution_count": null,
      "outputs": [
        {
          "output_type": "execute_result",
          "data": {
            "text/plain": [
              "[<matplotlib.lines.Line2D at 0x7973ef03da20>]"
            ]
          },
          "metadata": {},
          "execution_count": 116
        },
        {
          "output_type": "display_data",
          "data": {
            "text/plain": [
              "<Figure size 640x480 with 1 Axes>"
            ],
            "image/png": "[encoded data removed]"
          },
          "metadata": {}
        }
      ]
    },
    {
      "cell_type": "code",
      "source": [
        "x = np.linspace(-10,10,100)\n",
        "x\n",
        "y = np.sin(x)\n",
        "y\n",
        "import matplotlib.pyplot as plt\n",
        "\n",
        "plt.plot(x,y)\n"
      ],
      "metadata": {
        "colab": {
          "base_uri": "https://localhost:8080/",
          "height": 447
        },
        "id": "O-GlP7QS29FS",
        "outputId": "8e1656a4-c250-4923-aca2-dba3acee39cf"
      },
      "execution_count": null,
      "outputs": [
        {
          "output_type": "execute_result",
          "data": {
            "text/plain": [
              "[<matplotlib.lines.Line2D at 0x7973eedab550>]"
            ]
          },
          "metadata": {},
          "execution_count": 119
        },
        {
          "output_type": "display_data",
          "data": {
            "text/plain": [
              "<Figure size 640x480 with 1 Axes>"
            ],
            "image/png": "[encoded data removed]"
          },
          "metadata": {}
        }
      ]
    },
    {
      "cell_type": "code",
      "source": [
        "x = np.linspace(-10,10,100)\n",
        "x\n",
        "y = x*np.log(x)\n",
        "y\n",
        "import matplotlib.pyplot as plt\n",
        "\n",
        "plt.plot(x,y)"
      ],
      "metadata": {
        "colab": {
          "base_uri": "https://localhost:8080/",
          "height": 482
        },
        "id": "WFcUZ4MT3d9h",
        "outputId": "0c8dccbf-6a96-4e09-c88e-65b529300d66"
      },
      "execution_count": null,
      "outputs": [
        {
          "output_type": "stream",
          "name": "stderr",
          "text": [
            "<ipython-input-120-41647cd95611>:3: RuntimeWarning: invalid value encountered in log\n",
            "  y = x*np.log(x)\n"
          ]
        },
        {
          "output_type": "execute_result",
          "data": {
            "text/plain": [
              "[<matplotlib.lines.Line2D at 0x7973ee8c4070>]"
            ]
          },
          "metadata": {},
          "execution_count": 120
        },
        {
          "output_type": "display_data",
          "data": {
            "text/plain": [
              "<Figure size 640x480 with 1 Axes>"
            ],
            "image/png": "[encoded data removed]"
          },
          "metadata": {}
        }
      ]
    },
    {
      "cell_type": "code",
      "source": [
        "x = np.linspace(-10,10,100)\n",
        "y = 1/(1+np.exp(-x))\n",
        "plt.plot(x,y)"
      ],
      "metadata": {
        "colab": {
          "base_uri": "https://localhost:8080/",
          "height": 447
        },
        "id": "KMUC5_Ys4ARX",
        "outputId": "ac19c3ff-b819-4982-8316-9c97c82def77"
      },
      "execution_count": null,
      "outputs": [
        {
          "output_type": "execute_result",
          "data": {
            "text/plain": [
              "[<matplotlib.lines.Line2D at 0x7973ee7a11b0>]"
            ]
          },
          "metadata": {},
          "execution_count": 124
        },
        {
          "output_type": "display_data",
          "data": {
            "text/plain": [
              "<Figure size 640x480 with 1 Axes>"
            ],
            "image/png": "[encoded data removed]"
          },
          "metadata": {}
        }
      ]
    },
    {
      "cell_type": "code",
      "source": [
        "import numpy as np\n",
        "a = np.arange(12).reshape(3,4)\n",
        "a\n"
      ],
      "metadata": {
        "colab": {
          "base_uri": "https://localhost:8080/"
        },
        "id": "syfVb2CMxw9s",
        "outputId": "7a4158c1-fe88-48e5-a9ee-c96e3572faf2"
      },
      "execution_count": null,
      "outputs": [
        {
          "output_type": "execute_result",
          "data": {
            "text/plain": [
              "array([[ 0,  1,  2,  3],\n",
              "       [ 4,  5,  6,  7],\n",
              "       [ 8,  9, 10, 11]])"
            ]
          },
          "metadata": {},
          "execution_count": 65
        }
      ]
    },
    {
      "cell_type": "code",
      "source": [
        "#  Sort function\n",
        "# np.sort\n",
        "'''Return a sorted copy of an array '''\n",
        "a = np.random.randint(1,100,10)\n",
        "print(a)\n",
        "np.sort(a)\n",
        "\n"
      ],
      "metadata": {
        "id": "RZpuKbNbzWGv",
        "colab": {
          "base_uri": "https://localhost:8080/"
        },
        "outputId": "ac9b282b-7b51-408a-912f-0dd0b2e9bbb8"
      },
      "execution_count": null,
      "outputs": [
        {
          "output_type": "stream",
          "name": "stdout",
          "text": [
            "[57 98 87 99 37 73 14 50  3 46]\n"
          ]
        },
        {
          "output_type": "execute_result",
          "data": {
            "text/plain": [
              "array([ 3, 14, 37, 46, 50, 57, 73, 87, 98, 99])"
            ]
          },
          "metadata": {},
          "execution_count": 68
        }
      ]
    },
    {
      "cell_type": "code",
      "source": [
        "# for ascending order sorting\n",
        "b = np.random.randint(1,100,12).reshape(3,4)\n",
        "print(b)\n",
        "np.sort(b,axis =1)\n",
        "np.sort(b,axis=0)"
      ],
      "metadata": {
        "colab": {
          "base_uri": "https://localhost:8080/"
        },
        "id": "VAYrM4z-aQFz",
        "outputId": "4e7eb724-5f3c-4e17-b933-540eb8454bab"
      },
      "execution_count": null,
      "outputs": [
        {
          "output_type": "stream",
          "name": "stdout",
          "text": [
            "[[72 63 50 64]\n",
            " [ 1 32 97 54]\n",
            " [36 25 63  7]]\n"
          ]
        },
        {
          "output_type": "execute_result",
          "data": {
            "text/plain": [
              "array([[ 1, 25, 50,  7],\n",
              "       [36, 32, 63, 54],\n",
              "       [72, 63, 97, 64]])"
            ]
          },
          "metadata": {},
          "execution_count": 67
        }
      ]
    },
    {
      "cell_type": "code",
      "source": [
        "# for descending order sorting\n",
        "b = np.random.randint(1,100,12).reshape(3,4)\n",
        "print(b)\n",
        "# np.sort(b,axis =1)[:,::-1]\n",
        "np.sort(b,axis=0)[::-1]"
      ],
      "metadata": {
        "colab": {
          "base_uri": "https://localhost:8080/"
        },
        "id": "IEErxXbfcqP8",
        "outputId": "dbc77252-55a5-4a38-e6b3-8a1c81bb7436"
      },
      "execution_count": null,
      "outputs": [
        {
          "output_type": "stream",
          "name": "stdout",
          "text": [
            "[[39 74 30 47]\n",
            " [29 96 81  2]\n",
            " [37  2 11 76]]\n"
          ]
        },
        {
          "output_type": "execute_result",
          "data": {
            "text/plain": [
              "array([[39, 96, 81, 76],\n",
              "       [37, 74, 30, 47],\n",
              "       [29,  2, 11,  2]])"
            ]
          },
          "metadata": {},
          "execution_count": 69
        }
      ]
    },
    {
      "cell_type": "markdown",
      "source": [
        "np.append\n",
        "\n",
        "The numpy.append() appends values along the metioned axis at the end of the array"
      ],
      "metadata": {
        "id": "wQAU7twHdVkD"
      }
    },
    {
      "cell_type": "code",
      "source": [
        "a = np.random.randint(1,50,16).reshape(4,4)\n",
        "a\n",
        "np.append(b,np.ones((b.shape[0],1)),axis=1)\n",
        "np.append(a,50)\n"
      ],
      "metadata": {
        "colab": {
          "base_uri": "https://localhost:8080/"
        },
        "id": "daTTXpyrdTkp",
        "outputId": "5b762681-cc4d-4108-d43f-457a01f8fce0"
      },
      "execution_count": null,
      "outputs": [
        {
          "output_type": "execute_result",
          "data": {
            "text/plain": [
              "array([ 8, 27, 29, 38, 15, 23, 35, 45, 17, 10, 34, 25, 45, 30, 45, 18, 50])"
            ]
          },
          "metadata": {},
          "execution_count": 74
        }
      ]
    },
    {
      "cell_type": "markdown",
      "source": [
        "np.concatenate\n",
        "\n",
        "numpy.concatenate() function concatenate a sequence of arrays along an existing axis"
      ],
      "metadata": {
        "id": "xSmtaRtnLITD"
      }
    },
    {
      "cell_type": "code",
      "source": [
        "a = np.arange(12).reshape(3,4)\n",
        "b = np.arange(12,24).reshape(3,4)\n",
        "print(a)\n",
        "print(b)\n",
        "\n",
        "np.concatenate((a,b),axis=0)\n",
        "np.concatenate((a,b),axis=1)\n",
        "np.unique(a)"
      ],
      "metadata": {
        "id": "WrlqBJiogV6c",
        "colab": {
          "base_uri": "https://localhost:8080/"
        },
        "outputId": "26901707-287c-424d-9b44-03c249e9a012"
      },
      "execution_count": null,
      "outputs": [
        {
          "output_type": "stream",
          "name": "stdout",
          "text": [
            "[[ 0  1  2  3]\n",
            " [ 4  5  6  7]\n",
            " [ 8  9 10 11]]\n",
            "[[12 13 14 15]\n",
            " [16 17 18 19]\n",
            " [20 21 22 23]]\n"
          ]
        },
        {
          "output_type": "execute_result",
          "data": {
            "text/plain": [
              "array([ 0,  1,  2,  3,  4,  5,  6,  7,  8,  9, 10, 11])"
            ]
          },
          "metadata": {},
          "execution_count": 10
        }
      ]
    },
    {
      "cell_type": "markdown",
      "source": [
        " np.expand_dims"
      ],
      "metadata": {
        "id": "jUWfFKh-N7Vs"
      }
    },
    {
      "cell_type": "code",
      "source": [
        "# we can get expand dimensions\n",
        "np.expand_dims(a,axis=0).shape"
      ],
      "metadata": {
        "colab": {
          "base_uri": "https://localhost:8080/"
        },
        "id": "lyevOmzIN6Yj",
        "outputId": "a0c53afc-cbae-4320-d00f-eb293869fe3a"
      },
      "execution_count": null,
      "outputs": [
        {
          "output_type": "execute_result",
          "data": {
            "text/plain": [
              "(1, 3, 4)"
            ]
          },
          "metadata": {},
          "execution_count": 11
        }
      ]
    },
    {
      "cell_type": "markdown",
      "source": [
        "np.where\n",
        "\n",
        "The np.where function returns the indices of elements in an input array where the given condition is satisfied\n"
      ],
      "metadata": {
        "id": "Eh3w5Gk7P1Qk"
      }
    },
    {
      "cell_type": "code",
      "source": [
        "a = np.random.randint(1,100,12).reshape(1,12)\n",
        "print(a)\n",
        "np.where(a>50)"
      ],
      "metadata": {
        "colab": {
          "base_uri": "https://localhost:8080/"
        },
        "id": "-Qut3roLPXJh",
        "outputId": "086a3594-846a-4374-f564-78d70d1e7b02"
      },
      "execution_count": null,
      "outputs": [
        {
          "output_type": "stream",
          "name": "stdout",
          "text": [
            "[[58 38 82 93 14 78 45 11 50 80 56 58]]\n"
          ]
        },
        {
          "output_type": "execute_result",
          "data": {
            "text/plain": [
              "(array([0, 0, 0, 0, 0, 0, 0]), array([ 0,  2,  3,  5,  9, 10, 11]))"
            ]
          },
          "metadata": {},
          "execution_count": 2
        }
      ]
    },
    {
      "cell_type": "code",
      "source": [
        "# replace all value > 50 with 0\n",
        "np.where(a>50,0,a)"
      ],
      "metadata": {
        "colab": {
          "base_uri": "https://localhost:8080/"
        },
        "id": "AjYP9b5SRXLZ",
        "outputId": "d85c477d-8e77-4b22-ddc1-3b404a741480"
      },
      "execution_count": null,
      "outputs": [
        {
          "output_type": "execute_result",
          "data": {
            "text/plain": [
              "array([[ 0, 38,  0,  0, 14,  0, 45, 11, 50,  0,  0,  0]])"
            ]
          },
          "metadata": {},
          "execution_count": 3
        }
      ]
    },
    {
      "cell_type": "code",
      "source": [
        "# replace all even value with 0\n",
        "np.where(a%2==0,0,a)"
      ],
      "metadata": {
        "colab": {
          "base_uri": "https://localhost:8080/"
        },
        "id": "4LA7LIvzTd9-",
        "outputId": "4c7f5f17-7b4e-4137-cedc-4a5ceb26a000"
      },
      "execution_count": null,
      "outputs": [
        {
          "output_type": "execute_result",
          "data": {
            "text/plain": [
              "array([[ 0,  0,  0, 93,  0,  0, 45, 11,  0,  0,  0,  0]])"
            ]
          },
          "metadata": {},
          "execution_count": 4
        }
      ]
    },
    {
      "cell_type": "markdown",
      "source": [
        "np.argmax\n",
        "\n",
        "The numpy argmax function return indices of the max element of the array in a particular axis"
      ],
      "metadata": {
        "id": "TNJcR0baUGm3"
      }
    },
    {
      "cell_type": "code",
      "source": [
        "b = np.arange(12).reshape(3,4)\n",
        "print(b)\n",
        "np.argmax(b,axis=0)"
      ],
      "metadata": {
        "colab": {
          "base_uri": "https://localhost:8080/"
        },
        "id": "F3uVsvnNTykx",
        "outputId": "beba7dfe-0bfa-4ebd-8266-a435833d4571"
      },
      "execution_count": null,
      "outputs": [
        {
          "output_type": "stream",
          "name": "stdout",
          "text": [
            "[[ 0  1  2  3]\n",
            " [ 4  5  6  7]\n",
            " [ 8  9 10 11]]\n"
          ]
        },
        {
          "output_type": "execute_result",
          "data": {
            "text/plain": [
              "array([2, 2, 2, 2])"
            ]
          },
          "metadata": {},
          "execution_count": 5
        }
      ]
    },
    {
      "cell_type": "markdown",
      "source": [
        "np"
      ],
      "metadata": {
        "id": "a__AJZXUJ2jN"
      }
    },
    {
      "cell_type": "code",
      "source": [
        "np.argmin(a)\n",
        "np.unique(a)  # to find unique values in array"
      ],
      "metadata": {
        "colab": {
          "base_uri": "https://localhost:8080/"
        },
        "id": "tN9qHYpKU_vp",
        "outputId": "bff2b698-e410-4227-c565-b0f75d631b02"
      },
      "execution_count": null,
      "outputs": [
        {
          "output_type": "execute_result",
          "data": {
            "text/plain": [
              "array([11, 14, 38, 45, 50, 56, 58, 78, 80, 82, 93])"
            ]
          },
          "metadata": {},
          "execution_count": 10
        }
      ]
    },
    {
      "cell_type": "markdown",
      "source": [
        "np.cumsum\n",
        "\n",
        "it's used when compute cumulative sum of array elements over a given axis"
      ],
      "metadata": {
        "id": "5FzzMa3XKlN4"
      }
    },
    {
      "cell_type": "code",
      "source": [
        "print(a)\n",
        "np.cumsum(a)"
      ],
      "metadata": {
        "colab": {
          "base_uri": "https://localhost:8080/"
        },
        "id": "qqb8CNgXKjrP",
        "outputId": "dc640f04-5aec-42fb-deaf-a6921deca8de"
      },
      "execution_count": null,
      "outputs": [
        {
          "output_type": "stream",
          "name": "stdout",
          "text": [
            "[[58 38 82 93 14 78 45 11 50 80 56 58]]\n"
          ]
        },
        {
          "output_type": "execute_result",
          "data": {
            "text/plain": [
              "array([ 58,  96, 178, 271, 285, 363, 408, 419, 469, 549, 605, 663])"
            ]
          },
          "metadata": {},
          "execution_count": 12
        }
      ]
    },
    {
      "cell_type": "code",
      "source": [
        "# for 2D array\n",
        "a = np.arange(1,13).reshape(3,4)\n",
        "print(a)\n",
        "np.cumsum(a,axis=1)"
      ],
      "metadata": {
        "colab": {
          "base_uri": "https://localhost:8080/"
        },
        "id": "vIbzD6y5L-Aq",
        "outputId": "25fd8f2d-05df-4ae1-c65c-e384475f8fa6"
      },
      "execution_count": null,
      "outputs": [
        {
          "output_type": "stream",
          "name": "stdout",
          "text": [
            "[[ 1  2  3  4]\n",
            " [ 5  6  7  8]\n",
            " [ 9 10 11 12]]\n"
          ]
        },
        {
          "output_type": "execute_result",
          "data": {
            "text/plain": [
              "array([[ 1,  3,  6, 10],\n",
              "       [ 5, 11, 18, 26],\n",
              "       [ 9, 19, 30, 42]])"
            ]
          },
          "metadata": {},
          "execution_count": 23
        }
      ]
    },
    {
      "cell_type": "markdown",
      "source": [
        "np.cumprod\n",
        "\n",
        "it's used to cumulative product of elements in array"
      ],
      "metadata": {
        "id": "nXQSNG7YMXBj"
      }
    },
    {
      "cell_type": "code",
      "source": [
        "np.cumprod(a,axis=0)"
      ],
      "metadata": {
        "colab": {
          "base_uri": "https://localhost:8080/"
        },
        "id": "mx4GFJBNNAit",
        "outputId": "cdb2fb7a-5387-4aa9-faee-aa384479b26e"
      },
      "execution_count": null,
      "outputs": [
        {
          "output_type": "execute_result",
          "data": {
            "text/plain": [
              "array([[  1,   2,   3,   4],\n",
              "       [  5,  12,  21,  32],\n",
              "       [ 45, 120, 231, 384]])"
            ]
          },
          "metadata": {},
          "execution_count": 24
        }
      ]
    },
    {
      "cell_type": "markdown",
      "source": [
        "np.percentile\n",
        "\n",
        "percentile function is used to compute the nth percentile of the given data(array elements) along the specified axis\n",
        "\n",
        "\n",
        "Percentile(x) = (Number of values fall under ‘x’/total number of values) × 100\n",
        "\n",
        "P = (n/N) × 100\n",
        "\n",
        "Where,\n",
        "\n",
        "P is percentile\n",
        "n – Number of values below ‘x’\n",
        "N – Total count of population"
      ],
      "metadata": {
        "id": "n7SZB4BmNyj5"
      }
    },
    {
      "cell_type": "code",
      "source": [
        "print(a)\n",
        "np.percentile(a,50)\n"
      ],
      "metadata": {
        "colab": {
          "base_uri": "https://localhost:8080/"
        },
        "id": "8jnORHv8OMF_",
        "outputId": "2523fbd2-05d6-402c-ec6b-3d0701a51126"
      },
      "execution_count": null,
      "outputs": [
        {
          "output_type": "stream",
          "name": "stdout",
          "text": [
            "[[ 1  2  3  4]\n",
            " [ 5  6  7  8]\n",
            " [ 9 10 11 12]]\n"
          ]
        },
        {
          "output_type": "execute_result",
          "data": {
            "text/plain": [
              "6.5"
            ]
          },
          "metadata": {},
          "execution_count": 40
        }
      ]
    },
    {
      "cell_type": "markdown",
      "source": [
        "np.histogram\n",
        "\n",
        "Numpy has a built-in numpy.histogram function which represents the frequency of data distribution in the graphical from"
      ],
      "metadata": {
        "id": "srarvjJSRfRB"
      }
    },
    {
      "cell_type": "code",
      "source": [
        "a = np.random.randint(1,100,20).reshape(4,5)\n",
        "print(a)\n",
        "np.histogram(a,bins=[0,10,11,20,21,30,31,40])\n",
        "# this are the bins 0-10  11-20  21-30  31-40"
      ],
      "metadata": {
        "colab": {
          "base_uri": "https://localhost:8080/"
        },
        "id": "dJjnP5kIRTDc",
        "outputId": "847994ad-6d18-4b0c-e7dc-02f1e05f47b7"
      },
      "execution_count": null,
      "outputs": [
        {
          "output_type": "stream",
          "name": "stdout",
          "text": [
            "[[24 91  7 48 92]\n",
            " [ 3  8 91 76 46]\n",
            " [49 62 52  2 66]\n",
            " [11 15 50 38  1]]\n"
          ]
        },
        {
          "output_type": "execute_result",
          "data": {
            "text/plain": [
              "(array([5, 0, 2, 0, 1, 0, 1]), array([ 0, 10, 11, 20, 21, 30, 31, 40]))"
            ]
          },
          "metadata": {},
          "execution_count": 48
        }
      ]
    },
    {
      "cell_type": "markdown",
      "source": [
        "np.corrcoef\n",
        "\n",
        "Return pearson product moment correlation coefficients"
      ],
      "metadata": {
        "id": "m5BMyk-vUDQ7"
      }
    },
    {
      "cell_type": "code",
      "source": [
        "salary = np.array([20000,30000,40000,500000,600000])\n",
        "experience = np.array([1,2,3,4,5])\n",
        "np.corrcoef(salary,experience)"
      ],
      "metadata": {
        "colab": {
          "base_uri": "https://localhost:8080/"
        },
        "id": "tbn7sxIvUC8L",
        "outputId": "ed0f7d20-45d8-443b-f006-4c0a8c2b9da7"
      },
      "execution_count": null,
      "outputs": [
        {
          "output_type": "execute_result",
          "data": {
            "text/plain": [
              "array([[1.        , 0.89772083],\n",
              "       [0.89772083, 1.        ]])"
            ]
          },
          "metadata": {},
          "execution_count": 55
        }
      ]
    },
    {
      "cell_type": "markdown",
      "source": [
        "np.isin\n",
        "\n",
        "it is used to search multiple items at a time from an array"
      ],
      "metadata": {
        "id": "ruM7pqi3ajqY"
      }
    },
    {
      "cell_type": "code",
      "source": [
        "print(a)\n",
        "item = [1,2,4,533,5,54]\n",
        "np.isin(a,item)\n",
        "# a[np.isin(a,item)]"
      ],
      "metadata": {
        "colab": {
          "base_uri": "https://localhost:8080/"
        },
        "id": "eeCfN0gXatPT",
        "outputId": "656754ef-178e-497e-b041-6792cdd66a0b"
      },
      "execution_count": null,
      "outputs": [
        {
          "output_type": "stream",
          "name": "stdout",
          "text": [
            "[[24 91  7 48 92]\n",
            " [ 3  8 91 76 46]\n",
            " [49 62 52  2 66]\n",
            " [11 15 50 38  1]]\n"
          ]
        },
        {
          "output_type": "execute_result",
          "data": {
            "text/plain": [
              "array([[False, False, False, False, False],\n",
              "       [False, False, False, False, False],\n",
              "       [False, False, False,  True, False],\n",
              "       [False, False, False, False,  True]])"
            ]
          },
          "metadata": {},
          "execution_count": 63
        }
      ]
    },
    {
      "cell_type": "markdown",
      "source": [
        "np.flip\n",
        "\n",
        "is used to reverse the order of elements along with axis"
      ],
      "metadata": {
        "id": "PQfFoDTFJuSc"
      }
    },
    {
      "cell_type": "code",
      "source": [
        "import numpy as np\n",
        "a = np.arange(12).reshape(3,4)\n",
        "print(a)\n",
        "np.flip(a,axis=1)\n",
        "np.flip(a)"
      ],
      "metadata": {
        "colab": {
          "base_uri": "https://localhost:8080/"
        },
        "id": "_SUtbSPKIn5h",
        "outputId": "0efe7f05-2f56-48e2-9375-1abb2fa55fa1"
      },
      "execution_count": null,
      "outputs": [
        {
          "output_type": "stream",
          "name": "stdout",
          "text": [
            "[[ 0  1  2  3]\n",
            " [ 4  5  6  7]\n",
            " [ 8  9 10 11]]\n"
          ]
        },
        {
          "output_type": "execute_result",
          "data": {
            "text/plain": [
              "array([[11, 10,  9,  8],\n",
              "       [ 7,  6,  5,  4],\n",
              "       [ 3,  2,  1,  0]])"
            ]
          },
          "metadata": {},
          "execution_count": 33
        }
      ]
    },
    {
      "cell_type": "markdown",
      "source": [
        "np.put\n",
        "\n",
        "it will replace the specifed element of an array with given value of array"
      ],
      "metadata": {
        "id": "p-Y22mCqJ_DR"
      }
    },
    {
      "cell_type": "code",
      "source": [
        "a = np.arange(12)\n",
        "print(a)\n",
        "np.put(a,[0,1],[110,140])\n",
        "print(a)\n",
        "\n"
      ],
      "metadata": {
        "colab": {
          "base_uri": "https://localhost:8080/"
        },
        "id": "yUAsiCvWMlte",
        "outputId": "4dbf4a8f-0272-4e40-c1b9-de16f2f75f1a"
      },
      "execution_count": null,
      "outputs": [
        {
          "output_type": "stream",
          "name": "stdout",
          "text": [
            "[ 0  1  2  3  4  5  6  7  8  9 10 11]\n",
            "[110 140   2   3   4   5   6   7   8   9  10  11]\n"
          ]
        },
        {
          "output_type": "execute_result",
          "data": {
            "text/plain": [
              "array([  2,   3,   4,   5,   6,   7,   8,   9,  10,  11, 110, 140])"
            ]
          },
          "metadata": {},
          "execution_count": 39
        }
      ]
    },
    {
      "cell_type": "markdown",
      "source": [
        "np.delete\n",
        "\n",
        "is used to delete element from array with  given index"
      ],
      "metadata": {
        "id": "xSIHO5S5Q_VK"
      }
    },
    {
      "cell_type": "code",
      "source": [
        "print(a)\n",
        "np.delete(a,[0,1])"
      ],
      "metadata": {
        "colab": {
          "base_uri": "https://localhost:8080/"
        },
        "id": "DqCLLlEyROWq",
        "outputId": "5f69f291-8453-4c8b-9601-8a671baa0720"
      },
      "execution_count": null,
      "outputs": [
        {
          "output_type": "stream",
          "name": "stdout",
          "text": [
            "[110 140   2   3   4   5   6   7   8   9  10  11]\n"
          ]
        },
        {
          "output_type": "execute_result",
          "data": {
            "text/plain": [
              "array([ 2,  3,  4,  5,  6,  7,  8,  9, 10, 11])"
            ]
          },
          "metadata": {},
          "execution_count": 41
        }
      ]
    },
    {
      "cell_type": "markdown",
      "source": [
        "Set functions\n",
        "\n",
        ". np.union1d\n",
        "\n",
        ". np.intersect1d\n",
        "\n",
        ". np.setdiff1d\n",
        "\n",
        ". np.setxor1d\n",
        "\n",
        ". np.in1d\n"
      ],
      "metadata": {
        "id": "PFh-RbwJTfpr"
      }
    },
    {
      "cell_type": "code",
      "source": [
        "a=np.array([1,2,3,4,5])\n",
        "b=np.array([3,4,5,6,7])\n",
        "np.union1d(a,b)\n",
        "np.intersect1d(a,b)\n",
        "np.setdiff1d(a,b)  # those element are present in array a but not in b that element would be returned\n",
        "np.setxor1d(a,b) # return those element which are not present in array a and array b\n",
        "np.in1d(a,b) # if array a element present in array b return true if not then return false\n",
        "np.in1d(a,2)"
      ],
      "metadata": {
        "colab": {
          "base_uri": "https://localhost:8080/"
        },
        "id": "zbWpMBv4UHO_",
        "outputId": "68445696-b59c-4b7a-ffb0-517c7d07e579"
      },
      "execution_count": null,
      "outputs": [
        {
          "output_type": "execute_result",
          "data": {
            "text/plain": [
              "array([False,  True, False, False, False])"
            ]
          },
          "metadata": {},
          "execution_count": 54
        }
      ]
    },
    {
      "cell_type": "markdown",
      "source": [
        "np.clip\n",
        "\n",
        "is used to clip(limit) th values in an array"
      ],
      "metadata": {
        "id": "UX1bqv2TeZn6"
      }
    },
    {
      "cell_type": "code",
      "source": [
        "a = np.random.randint(1,100,10)\n",
        "print(a)\n",
        "np.clip(a,a_min=20,a_max=40) # if valies are greater or lesser than our given range then it's replace that value with given range values\n",
        "np.clip(a,20,50)  # second syntax"
      ],
      "metadata": {
        "colab": {
          "base_uri": "https://localhost:8080/"
        },
        "id": "44EMo_bOeg83",
        "outputId": "969c19bb-493f-43db-bf55-64c28adf05ce"
      },
      "execution_count": null,
      "outputs": [
        {
          "output_type": "stream",
          "name": "stdout",
          "text": [
            "[52  3  1 17 41 31 85 83 44  4]\n"
          ]
        },
        {
          "output_type": "execute_result",
          "data": {
            "text/plain": [
              "array([50, 20, 20, 20, 41, 31, 50, 50, 44, 20])"
            ]
          },
          "metadata": {},
          "execution_count": 64
        }
      ]
    }
  ]
}